{
 "cells": [
  {
   "cell_type": "code",
   "execution_count": 1,
   "metadata": {},
   "outputs": [],
   "source": [
    "import pandas as pd\n",
    "import numpy as np\n",
    "import seaborn as sns\n",
    "from matplotlib import pyplot as plt"
   ]
  },
  {
   "cell_type": "code",
   "execution_count": 2,
   "metadata": {},
   "outputs": [],
   "source": [
    "perf = pd.read_csv(\"Clean_data/Clean_Performance.csv\")\n",
    "conv = pd.read_csv(\"Clean_data/Clean_conversion.csv\")"
   ]
  },
  {
   "cell_type": "code",
   "execution_count": 3,
   "metadata": {},
   "outputs": [
    {
     "name": "stdout",
     "output_type": "stream",
     "text": [
      "(7908, 14) (809283, 18)\n"
     ]
    }
   ],
   "source": [
    "print(perf.shape, conv.shape)"
   ]
  },
  {
   "cell_type": "markdown",
   "metadata": {},
   "source": [
    "We merge the conversion file onto the performance file using the ID column. The how tells us how the merge will be performed. For example, an outer join is like a union of two sets where any indexes that aren't in both datasets have their values filled with NaNs. An inner join gives us the intersection of two sets where we join the data only where the IDs match. "
   ]
  },
  {
   "cell_type": "code",
   "execution_count": 4,
   "metadata": {},
   "outputs": [],
   "source": [
    "merged_df=conv.merge(perf, on='ID', how='inner')"
   ]
  },
  {
   "cell_type": "code",
   "execution_count": 5,
   "metadata": {
    "scrolled": true
   },
   "outputs": [
    {
     "name": "stdout",
     "output_type": "stream",
     "text": [
      "<class 'pandas.core.frame.DataFrame'>\n",
      "Int64Index: 768735 entries, 0 to 768734\n",
      "Data columns (total 31 columns):\n",
      "Date                                   768735 non-null object\n",
      "Advertiser ID_x                        768735 non-null int64\n",
      "Advertiser                             768735 non-null object\n",
      "Campaign ID_x                          768735 non-null int64\n",
      "Campaign                               768735 non-null object\n",
      "Site ID (DCM)_x                        768735 non-null int64\n",
      "Site (DCM)                             768735 non-null object\n",
      "Creative ID_x                          768735 non-null object\n",
      "Creative                               768735 non-null object\n",
      "Creative Type_x                        768735 non-null object\n",
      "Placement Pixel Size_x                 768735 non-null object\n",
      "Platform Type_x                        768735 non-null object\n",
      "Activity ID                            768735 non-null int64\n",
      "Activity                               768735 non-null object\n",
      "Total Conversions                      768735 non-null float64\n",
      "Click-through Conversions              768735 non-null float64\n",
      "View-through Conversions               768735 non-null float64\n",
      "ID                                     768735 non-null object\n",
      "Advertiser ID_y                        768735 non-null int64\n",
      "Campaign ID_y                          768735 non-null int64\n",
      "Site ID (DCM)_y                        768735 non-null int64\n",
      "Creative ID_y                          768735 non-null object\n",
      "Creative Type_y                        768735 non-null object\n",
      "Placement Pixel Size_y                 768735 non-null object\n",
      "Platform Type_y                        768735 non-null object\n",
      "Clicks                                 768735 non-null int64\n",
      "Impressions                            768735 non-null int64\n",
      "Active View: Viewable Impressions      768735 non-null int64\n",
      "Active View: Measurable Impressions    768735 non-null int64\n",
      "Active View: Eligible Impressions      768735 non-null int64\n",
      "Click Rate                             665454 non-null float64\n",
      "dtypes: float64(4), int64(12), object(15)\n",
      "memory usage: 187.7+ MB\n"
     ]
    }
   ],
   "source": [
    "merged_df.info()"
   ]
  },
  {
   "cell_type": "code",
   "execution_count": 6,
   "metadata": {},
   "outputs": [],
   "source": [
    "merged_df_nonulls=merged_df.copy()"
   ]
  },
  {
   "cell_type": "markdown",
   "metadata": {},
   "source": [
    "Now select the columns to drop as we have lots of duplicates. We drop all the duplicated columns with _y in the their name. \n",
    "We update the dataframe merged_df with the removed columns and then rename the columns to remove the _x as it is no longer required. "
   ]
  },
  {
   "cell_type": "code",
   "execution_count": 7,
   "metadata": {},
   "outputs": [],
   "source": [
    "cols_to_drop = ['Advertiser ID_y','Campaign ID_y','Site ID (DCM)_y','Creative Type_y', \n",
    "                'Placement Pixel Size_y','Platform Type_y','Creative ID_y']\n",
    "\n",
    "merged_df=merged_df.drop(cols_to_drop, axis=1)\n",
    "merged_df.rename(columns={\"Advertiser ID_x\":\"Advertiser ID\",\"Campaign ID_x\":\"Campaign ID\",\n",
    "                          \"Site ID (DCM)_x\":\"Site ID (DCM)\",\"Creative Type_x\":\"Creative Type\",\n",
    "                          \"Placement Pixel Size_x\":\"Placement Pixel Size\",\"Platform Type_x\":\"Platform Type\",\n",
    "                          \"Creative ID_x\":'Creative ID'},inplace=True)\n"
   ]
  },
  {
   "cell_type": "code",
   "execution_count": 8,
   "metadata": {
    "scrolled": true
   },
   "outputs": [
    {
     "data": {
      "text/plain": [
       "Index(['Date', 'Advertiser ID', 'Advertiser', 'Campaign ID', 'Campaign',\n",
       "       'Site ID (DCM)', 'Site (DCM)', 'Creative ID', 'Creative',\n",
       "       'Creative Type', 'Placement Pixel Size', 'Platform Type', 'Activity ID',\n",
       "       'Activity', 'Total Conversions', 'Click-through Conversions',\n",
       "       'View-through Conversions', 'ID', 'Clicks', 'Impressions',\n",
       "       'Active View: Viewable Impressions',\n",
       "       'Active View: Measurable Impressions',\n",
       "       'Active View: Eligible Impressions', 'Click Rate'],\n",
       "      dtype='object')"
      ]
     },
     "execution_count": 8,
     "metadata": {},
     "output_type": "execute_result"
    }
   ],
   "source": [
    "merged_df.columns"
   ]
  },
  {
   "cell_type": "markdown",
   "metadata": {},
   "source": [
    "Converting the following columns to strings"
   ]
  },
  {
   "cell_type": "code",
   "execution_count": 9,
   "metadata": {},
   "outputs": [],
   "source": [
    "merged_df['Advertiser ID']=merged_df['Advertiser ID'].astype(str)\n",
    "merged_df['Campaign ID']=merged_df['Campaign ID'].astype(str)\n",
    "merged_df['Activity ID']=merged_df['Activity ID'].astype(str)\n",
    "merged_df['Site ID (DCM)']=merged_df['Site ID (DCM)'].astype(str)"
   ]
  },
  {
   "cell_type": "markdown",
   "metadata": {},
   "source": [
    "Create a column for the Activity bins that we'll use in the model"
   ]
  },
  {
   "cell_type": "code",
   "execution_count": 10,
   "metadata": {},
   "outputs": [],
   "source": [
    "# Duplicate the Activity column as Activity Bin\n",
    "\n",
    "merged_df['Activity Bin'] = merged_df['Activity']"
   ]
  },
  {
   "cell_type": "code",
   "execution_count": 11,
   "metadata": {},
   "outputs": [],
   "source": [
    "# Create Activity bins using John's (SMRS) file as a basis, up actually using what we have in the file\n",
    "\n",
    "act_bins = {\n",
    "    'Apply Online Click' : 'Application',\n",
    "    'Apply Now UG Button Click' : 'Application',\n",
    "    'Apply Now PG Button Click' : 'Application',\n",
    "    'Apply Online Complete' : 'Application',\n",
    "    'UG UCAS Application (Exit)' : 'Application',\n",
    "    'Part-time PDF Application Form' : 'Application',\n",
    "    'International UG Online Application Form Complete (UWEB)' : 'Application',\n",
    "    'UCAS Page Exit' : 'Application',\n",
    "    'PG Application' : 'Application',\n",
    "    'Launch Space Application' : 'Application',\n",
    "    \n",
    "    'Book an Open Day' : 'Open Day',\n",
    "    'Book Now - Success' : 'Open Day',\n",
    "    'UG Open Day Complete': 'Open Day',\n",
    "    'Open Day': 'Open Day',\n",
    "    'UG Open Day Registration': 'Open Day',\n",
    "    'PG Open Day Complete': 'Open Day',\n",
    "    'Part-Time Open Day Complete': 'Open Day',\n",
    "    'PG Open Day Form': 'Open Day',\n",
    "    'Book an Open Day Click': 'Open Day',\n",
    "    'Open Day Landing Page': 'Open Day',\n",
    "    'PG Open Day Registration': 'Open Day',\n",
    "    'PG Open Event 22 May 2019': 'Open Day',\n",
    "    'PG Open Event 24 April 2019': 'Open Day',\n",
    "    'UG Open Day 16 November 2019': 'Open Day',\n",
    "    'UG Open Day 2 November 2019': 'Open Day',\n",
    "    'UG Open Day 8 June 2019': 'Open Day',\n",
    "    'PG Open Event 17 Apr 2019': 'Open Day',\n",
    "\n",
    "    \n",
    "    'Prospectus' : 'Prospectus',\n",
    "    'Prospectus Request' : 'Prospectus',\n",
    "    'PG Prospectus Request Complete' : 'Prospectus',\n",
    "    'Prospectus Request Complete' : 'Prospectus',\n",
    "    'UG Prospectus Request Complete' : 'Prospectus',\n",
    "    'UG Course Details Download' : 'Prospectus',\n",
    "    \n",
    "    'Course Enquiry - Thank You' : 'Enquiry',\n",
    "    'International Enquiry' : 'Enquiry',\n",
    "    'Clearing Enquiry Form Complete' : 'Enquiry',\n",
    "    'International Enquiry Contact Us Confirmation (Microsite)' : 'Enquiry',\n",
    "    'ODL Enquiry Complete' : 'Enquiry',\n",
    "    'BBEC Enquiry Confirmation Page August' : 'Enquiry',\n",
    "    'Intl Enquiry [UWE] OLD' : 'Enquiry',\n",
    "    'Business Email' : 'Enquiry',\n",
    "    'Offline Conversion Tracking - Phone Call' : 'Enquiry',\n",
    "    'Click to Call' : 'Enquiry',\n",
    "    'BBEC - Enquire Now Online Survey Click' : 'Enquiry',\n",
    "    'Professional Development Course Enquiries Button Click' : 'Enquiry',\n",
    "    'Enquire Now Click (The Forge)' : 'Enquiry',\n",
    "    'Degree Apprenticeships Mail to Click' : 'Enquiry',\n",
    "    'Exec Education Mail to Click' : 'Enquiry',\n",
    "    'Faculty of Arts Creative Industries and Education Mail to' : 'Enquiry',\n",
    "    'Faculty of Business and Law Mail to' : 'Enquiry',\n",
    "    'Faculty of Environment and Technology Mail to' : 'Enquiry',\n",
    "    'Faculty of Health and Applied Sciences Mail to' : 'Enquiry',\n",
    "    'Exec Education Contact Us Button Click' : 'Enquiry',\n",
    "    'HDA Enquire Now' : 'Enquiry',\n",
    "    'International Enquire Now (Microsite)' : 'Enquiry',\n",
    "    'International Enquire Now (UWEB)' : 'Enquiry',\n",
    "    'Live Chat Started' : 'Enquiry',\n",
    "    'Chat Now - International' : 'Enquiry',\n",
    "    'Cyber Webinar Book' : 'Enquiry',\n",
    "    \n",
    "    'Clearing Page' : 'Clearing',\n",
    "    'Clearing Page [30 Dwell Time]' : 'Clearing',\n",
    "    'Clearing Landing Page' : 'Clearing',\n",
    "    'Clearing Find Your Course Click' : 'Clearing',\n",
    "    \n",
    "    'PG Homepage' : 'Homepage',\n",
    "    'Part-time Homepage' : 'Homepage',\n",
    "    'UG Homepage' : 'Homepage',\n",
    "    'International Homepage' : 'Homepage',\n",
    "    \n",
    "    'Study Pages' : 'Other Pages',\n",
    "    'SOH School Pages' : 'Other Pages',\n",
    "    'SSE School Pages' : 'Other Pages',\n",
    "    'Undergraduate Pages' : 'Other Pages',\n",
    "    'SOC School Pages' : 'Other Pages',\n",
    "    'HDA Course Page' : 'Other Pages',\n",
    "    'UG Scholarship' : 'Other Pages',\n",
    "    'Part-Time Course' : 'Other Pages',\n",
    "    'Global Floodlight' : 'Other Pages',\n",
    "    'Course View' : 'Other Pages',\n",
    "    \n",
    "    'UWE International Global AUD REM' : 'Rare',\n",
    "    'I4G External Site Link Click' : 'Rare',\n",
    "    \n",
    "    \n",
    "}"
   ]
  },
  {
   "cell_type": "code",
   "execution_count": 12,
   "metadata": {},
   "outputs": [],
   "source": [
    "# Replace Activity Bin with the proper bins from act_bin\n",
    "\n",
    "merged_df['Activity Bin'].replace(act_bins, inplace=True)"
   ]
  },
  {
   "cell_type": "code",
   "execution_count": 13,
   "metadata": {},
   "outputs": [
    {
     "data": {
      "text/plain": [
       "8"
      ]
     },
     "execution_count": 13,
     "metadata": {},
     "output_type": "execute_result"
    }
   ],
   "source": [
    "merged_df['Activity Bin'].nunique()"
   ]
  },
  {
   "cell_type": "markdown",
   "metadata": {},
   "source": [
    "Create column for total pixel area"
   ]
  },
  {
   "cell_type": "code",
   "execution_count": 14,
   "metadata": {},
   "outputs": [],
   "source": [
    "merged_df['Pixel Area'] = merged_df['Placement Pixel Size']"
   ]
  },
  {
   "cell_type": "code",
   "execution_count": 15,
   "metadata": {},
   "outputs": [],
   "source": [
    "# Create list of unique pixel size values\n",
    "\n",
    "pix_list = list(merged_df['Placement Pixel Size'].unique())"
   ]
  },
  {
   "cell_type": "code",
   "execution_count": 16,
   "metadata": {},
   "outputs": [],
   "source": [
    "# Convert pixel size values into an area array saved as a string\n",
    "\n",
    "area_arr = []\n",
    "for i,s in enumerate(pix_list):\n",
    "    splt = s.split()\n",
    "    area_arr.append(str((int(splt[0])*int(splt[2]))))"
   ]
  },
  {
   "cell_type": "code",
   "execution_count": 17,
   "metadata": {},
   "outputs": [],
   "source": [
    "# Create conversion transform from pixels to area\n",
    "\n",
    "area_replace = {'1 x 1':'1',\n",
    " '300 x 250' :  '75000',\n",
    " '300 x 600' :  '180000',\n",
    " '320 x 100' :  '32000',\n",
    " '336 x 280' :  '94080',\n",
    " '728 x 90' :  '65520',\n",
    " '120 x 600' :  '72000',\n",
    " '160 x 600' :  '96000',\n",
    " '468 x 60' :  '28080',\n",
    " '180 x 150' :  '27000',\n",
    " '320 x 50' :  '16000',\n",
    " '970 x 90' :  '87300',\n",
    " '970 x 250' :  '242500',\n",
    " '120 x 90' :  '10800',\n",
    " '100 x 100' :  '10000',\n",
    " '300 x 50' :  '15000',\n",
    " '250 x 100' :  '25000', \n",
    " '300 x 380' :  '114000', \n",
    " '200 x 200' :  '40000',\n",
    " '250 x 250' :  '62500',\n",
    " '300 x 100' :  '30000',\n",
    " '600 x 90' :  '54000',\n",
    " '300 x 251' :  '75300', \n",
    " '300 x 254' :  '76200', \n",
    " '300 x 258' :  '77400',\n",
    " '320 x 250' :  '80000', \n",
    " '160 x 601' :  '96160',\n",
    " '300 x 252' :  '75600',\n",
    " '300 x 253' :  '75900', \n",
    " '580 x 400' :  '232000',\n",
    " '600 x 250' :  '150000', \n",
    " '990 x 100' :  '99000', \n",
    " '640 x 640' :  '409600', \n",
    " '650 x 100' :  '65000',\n",
    " '338 x 280' :  '94640',\n",
    " '245 x 210' :  '51450'}"
   ]
  },
  {
   "cell_type": "code",
   "execution_count": 18,
   "metadata": {},
   "outputs": [],
   "source": [
    "# Place correct values i\n",
    "\n",
    "merged_df['Pixel Area'].replace(area_replace,inplace=True)"
   ]
  },
  {
   "cell_type": "markdown",
   "metadata": {},
   "source": [
    "Create columns for the month and year"
   ]
  },
  {
   "cell_type": "code",
   "execution_count": 19,
   "metadata": {},
   "outputs": [],
   "source": [
    "merged_df['Year'] = pd.DatetimeIndex(merged_df['Date']).year\n",
    "merged_df['Month'] = pd.DatetimeIndex(merged_df['Date']).month"
   ]
  },
  {
   "cell_type": "markdown",
   "metadata": {},
   "source": [
    "Create column that relates the campaign name from the merged file to the cost file"
   ]
  },
  {
   "cell_type": "code",
   "execution_count": 21,
   "metadata": {},
   "outputs": [],
   "source": [
    "# Cost file campaign names\n",
    "\n",
    "cost_camp = np.array(['Clearing 2018', 'UG 2019 Entry', 'Faculties 2019',\n",
    "       'UCAS Extra 2018', 'UG to PG 2018', 'UCAS Extra 2019', 'BBEC 2018',\n",
    "       'MSc Cybersecurity 2018', 'MA Virtual Reality 2018',\n",
    "       'MSc Civil Engineering 2018', 'Adult Nursing 2018',\n",
    "       'Optometry Nov 2018', 'Urban and Rural Planning 2018',\n",
    "       'Degree Apprenticeships 2018', 'Education Technology 2018',\n",
    "       'Vietnam International 2018', 'Thailand International 2018',\n",
    "       'BSc Computing 2018', 'Science Communications 2018', 'BME 2018',\n",
    "       'PG August - Sept 2018', 'SOH 2018', 'UG Feb to July 2018',\n",
    "       'TUBS - Jan - July 2018', 'SOH 2018/19', 'PG September - Jan 2019',\n",
    "       'TUBS - 18/19', 'SSE - 18/19', 'SCMA 2018', 'SCMA PG 2018',\n",
    "       'Summer University 2018', 'MSc Crime Intelligence 2018',\n",
    "       'Animal Science 2018', 'Early Awareness 2018'])"
   ]
  },
  {
   "cell_type": "code",
   "execution_count": 95,
   "metadata": {},
   "outputs": [],
   "source": [
    "# NEED TO TALK TO JOHN ABOUT THESE AND WHICH ONES CAN BE USED FOR WHAT!!!!\n",
    "\n",
    "cost_rename = {\n",
    "    'Clearing 2018 (036580)' : 'Clearing 2018',\n",
    "    'Clearing 2018 (034954)' : 'Clearing 2018',\n",
    "    'Clearing (038093)' : 'Clearing 2018',\n",
    "    \n",
    "    'UCAS Extra 2018 (036577)' : 'UCAS Extra 2018',\n",
    "    'UCAS Extra 2019 (038840)' : 'UCAS Extra 2019',\n",
    "    'UG SSED UCAS Extra 2019 (039374)' : 'UCAS Extra 2019',\n",
    "    \n",
    "    'BBEC (035126)' : 'BBEC 2018', \n",
    "    'BBEC Phase 2 (035126)' : 'BBEC 2018',\n",
    "    \n",
    "    'MA Virtual Reality (038342)' : 'MA Virtual Reality 2018',\n",
    "    \n",
    "    'MSc Civil Engineering (035126)' : 'MSc Civil Engineering 2018',\n",
    "    'MEng Civil and Environmental Engineering (035126)' : 'MSc Civil Engineering 2018',\n",
    "    \n",
    "    'BSc Optometry (037407)' : 'Optometry Nov 2018',\n",
    "    \n",
    "    'UWE PG2017 MSc Urban and Rural Planning (033135)' : 'Urban and Rural Planning 2018',\n",
    "    'MS Urban and Rural Planning (143224)' : 'Urban and Rural Planning 2018',\n",
    "    'Urban and Rural Planning (035126)' : 'Urban and Rural Planning 2018',\n",
    "    \n",
    "    'Degree Apprenticeships & Exec Education Campaign (037591)' : 'Degree Apprenticeships 2018',\n",
    "    'Degree Apprenticeships  (034962)' : 'Degree Apprenticeships 2018',\n",
    "    \n",
    "    'UWE International 2017 - Vietnam (033392)' : 'Vietnam International 2018',\n",
    "    'UWE International - Thailand (033421)' : 'Thailand International 2018',\n",
    "    \n",
    "    'BME (35127)' : 'BME 2018',\n",
    "    \n",
    "    'UG to PG (033860)' : 'UG to PG 2018',\n",
    "    'UG to PG 2018 Intake (035126)' : 'UG to PG 2018',\n",
    "    \n",
    "    'UG Feb 18 - Jul 18 (034954)' : 'UG Feb to July 2018',\n",
    "\n",
    "    'TUBS Campaign (036286)' : 'TUBS - Jan - July 2018', \n",
    "    'TUBS Clearing  (034951)' : 'TUBS - Jan - July 2018',\n",
    "    'TUBS 2018/19 (034951)' : 'TUBS - 18/19',\n",
    "    \n",
    "    'SSE - PAD 18 (034958)' : 'SSE - 18/19',\n",
    "    'SSE PAD January (034958)' : 'SSE - 18/19',\n",
    "    'Teesside - SSE - Design, Fashion & Textiles Campaign - 036315' : 'SSE - 18/19',\n",
    "    'SSE UCAS Extra (034958)' : 'SSE - 18/19',\n",
    "    'SSED May/June Campaign ( 037411)' : 'SSE - 18/19',\n",
    "    'UG SSED UCAS Extra 2019 (039374)' : 'SSE - 18/19',\n",
    "    \n",
    "    'SCMA Social Campaign (037727)' : 'SCMA 2018', \n",
    "    'SCMA PG (034956)' : 'SCMA PG 2018',\n",
    "    \n",
    "    'Summer University (037267)' : 'Summer University 2018',\n",
    "    'Summer School (145832)' : 'Summer University 2018',\n",
    "\n",
    "    'Animal Science & Welfare (034958)' : 'Animal Science 2018',\n",
    "    \n",
    "    'Early Awareness Year 12 Campaign 2018 (034954)' : 'Early Awareness 2018',\n",
    "    'UG Early Awareness (039262)' : 'Early Awareness 2018',\n",
    "\n",
    "}"
   ]
  },
  {
   "cell_type": "code",
   "execution_count": 96,
   "metadata": {},
   "outputs": [],
   "source": [
    "clear = [x for x in merged_df['Campaign'].unique() if 'Clearing' in x]\n",
    "ucas = [x for x in merged_df['Campaign'].unique() if 'UCAS' in x]\n",
    "bbec = [x for x in merged_df['Campaign'].unique() if 'BBEC' in x]\n",
    "virt = [x for x in merged_df['Campaign'].unique() if 'Virtual' in x]\n",
    "civil = [x for x in merged_df['Campaign'].unique() if 'Civil' in x]\n",
    "opt = [x for x in merged_df['Campaign'].unique() if 'Optometry' in x]\n",
    "urban = [x for x in merged_df['Campaign'].unique() if 'Urban' in x]\n",
    "deg = [x for x in merged_df['Campaign'].unique() if 'Degree' in x]\n",
    "inter = [x for x in merged_df['Campaign'].unique() if 'International' in x]\n",
    "pg = [x for x in merged_df['Campaign'].unique() if 'PG' in x]\n",
    "soh = [x for x in merged_df['Campaign'].unique() if 'SOH' in x]\n",
    "ug = [x for x in merged_df['Campaign'].unique() if 'UG' in x]\n",
    "tubs = [x for x in merged_df['Campaign'].unique() if 'TUBS' in x]\n",
    "sse = [x for x in merged_df['Campaign'].unique() if 'SSE' in x]\n",
    "scma = [x for x in merged_df['Campaign'].unique() if 'SCMA' in x]\n",
    "summer = [x for x in merged_df['Campaign'].unique() if 'Summer' in x]\n",
    "animal = [x for x in merged_df['Campaign'].unique() if 'Animal' in x]\n",
    "early = [x for x in merged_df['Campaign'].unique() if 'Early' in x]"
   ]
  },
  {
   "cell_type": "code",
   "execution_count": 97,
   "metadata": {},
   "outputs": [
    {
     "data": {
      "text/plain": [
       "['Early Awareness Year 12 Campaign 2018 (034954)',\n",
       " 'UG Early Awareness (039262)']"
      ]
     },
     "execution_count": 97,
     "metadata": {},
     "output_type": "execute_result"
    }
   ],
   "source": [
    "early"
   ]
  },
  {
   "cell_type": "code",
   "execution_count": 98,
   "metadata": {},
   "outputs": [
    {
     "data": {
      "text/plain": [
       "array(['UWE UG2017 HAS Campaign (032996)',\n",
       "       'UWE PG2017 MSc Urban and Rural Planning (033135)',\n",
       "       'Decision 2018  (034386)', 'Thailand 2017/18 Intake (035618)',\n",
       "       'DART Search', 'Natural Search',\n",
       "       'UWE UG2017 FET Campaign (032949)',\n",
       "       'Profile Raising & Open Event (035126)',\n",
       "       'MS Urban and Rural Planning (143224)',\n",
       "       'UWE UG 2018 Awareness Campaign (033842)',\n",
       "       'Vietnam 2017/18 Intake (035616)',\n",
       "       'UWE International 2017  (033347)',\n",
       "       'Creative Degree Show 2017 (034328)', 'UG to PG (033860)',\n",
       "       'UWE International - Nigeria (033422)', 'UCAS Extra 2018 (036577)',\n",
       "       'UG 2019 Student Intake (036350)',\n",
       "       'UWE UG2017 - UCAS Extra (033879)',\n",
       "       'Profile Raising & Open Events 2017/18 (035742)',\n",
       "       'Creative Degree Show (35123)', 'Launch Space (036993)',\n",
       "       'UG to PG 2018 Intake (035126)', 'BSc Optometry (037407)',\n",
       "       'MSc Cyber Security (035126)', 'BBEC (035126)',\n",
       "       'Clearing 2018 (036580)', 'MSc Civil Engineering (035126)',\n",
       "       'BME (35127)', 'Innovation 4 Growth Campaign (037784)',\n",
       "       'Degree Apprenticeships & Exec Education Campaign (037591)',\n",
       "       'BBEC Phase 2 (035126)',\n",
       "       'UWE International 2017 - Vietnam (033392)',\n",
       "       'Urban and Rural Planning (035126)',\n",
       "       'MEng Civil and Environmental Engineering (035126)',\n",
       "       'UG - Faculties - 2018 (038231)',\n",
       "       'UWE International - Thailand (033421)',\n",
       "       'MA Virtual Reality (038342)', 'PG 2019 (038397)',\n",
       "       'UCAS Extra 2019 (038840)', 'UG to PG 2019 (038854)',\n",
       "       'UG 2020 (038484)', 'Creative Degree Show 2019 (038945)',\n",
       "       'UG Clearing 2019 (039022)', 'Teesside Profiles (032787)',\n",
       "       'Postgraduate Campaign (033702)',\n",
       "       'School Of Health (035148 / 036263 [REM Nov-Jul 2018])',\n",
       "       'SSE - PAD 18 (034958)', 'UG 18 campaign (035761)',\n",
       "       'PG Nov - Jan (036156)', 'Additional School Of Health (036263)',\n",
       "       'TUBS Campaign (036286)', 'SSE PAD January (034958)',\n",
       "       'Teesside Gazette - 2020 Vision Renewal  (034009)',\n",
       "       'Postgraduate Search Profiles (036156)',\n",
       "       'Teesside - SSE - Design, Fashion & Textiles Campaign - 036315',\n",
       "       'Student Crowd (Trial)', 'Degree Apprenticeships  (034962)',\n",
       "       'UG campaign (034594)', 'Profiles (036562)',\n",
       "       'General International Marketing  (033576)',\n",
       "       'UG Sept - Jan Planning (035761)', 'PG Feb - July  (034954)',\n",
       "       'UG Feb 18 - Jul 18 (034954)',\n",
       "       'Health & Social Care - ODP Campaign (034954)',\n",
       "       'Animal Science & Welfare (034958)',\n",
       "       'International Profiles (035518)', 'CPD Campaign (034962)',\n",
       "       'SSE UCAS Extra (034958)', 'Summer University (037267)',\n",
       "       'ODP / OT (144602)', 'Easrly Awareness Campaign (034782)',\n",
       "       'SSED May/June Campaign ( 037411)', 'SSHL  (034960)',\n",
       "       'General International (036726)', 'Summer School (145832)',\n",
       "       'Clearing 2018 (034954)', 'SCMA Social Campaign (037727)',\n",
       "       'SSSHL PG Additional (034961)',\n",
       "       'Early Awareness Year 12 Campaign 2018 (034954)',\n",
       "       'TeessideUniversity-Undergraduate-Sept17toJan18-Device_All',\n",
       "       'OT and ODP Paid Media  (034960)', 'MSc Dietetics (034957)',\n",
       "       'Head of Psychology Campaign (037847)',\n",
       "       'Unplaced Clearing Emails (037583)',\n",
       "       'MA Creative Writing (034961)', 'SSSHL UG Additional  (034961)',\n",
       "       'PG August - September (034954)', 'TUBS Clearing  (034951)',\n",
       "       'UG Sept - Jan (037595)', 'Clearing (038093)',\n",
       "       'SOH - PAD Email (037919)', 'SCMA PG (034956)',\n",
       "       'Teesside Profiles 2018/19 (038062)', 'PG Oct - Jan (034954)',\n",
       "       'TUBS 2018/19 (034951)',\n",
       "       'Teesside Health & Social Care Campaign (47016)',\n",
       "       'HDA Campaign (038091)', 'School Of Health 2018/19 (038410)',\n",
       "       'Polymer Course Promotion  (038459)',\n",
       "       'School of Science and Engineering (038635)',\n",
       "       'UCAS Emails (038677)', 'HDA 2019 (038673)',\n",
       "       'UG Feb to July 2019 (038634)', 'PG Feb - July (038819)',\n",
       "       'ODL 2019 (039062)', 'TV and Cinema 2019 - UG (039028)',\n",
       "       'International 2019 (038566)', 'PG Feb - July Top Up (039177)',\n",
       "       'SCDT 2019 (039158)', 'Summer University 2019 (039259)',\n",
       "       'UG SSED UCAS Extra 2019 (039374)', 'Clearing 2019 - UG (039187)',\n",
       "       'UG Early Awareness (039262)',\n",
       "       'CEBE UG & PG June OD 2019  (039187)',\n",
       "       'International Psychology (039640)'], dtype=object)"
      ]
     },
     "execution_count": 98,
     "metadata": {},
     "output_type": "execute_result"
    }
   ],
   "source": [
    "merged_df['Campaign'].unique()"
   ]
  },
  {
   "cell_type": "code",
   "execution_count": 99,
   "metadata": {},
   "outputs": [],
   "source": [
    "merged_df['Campaign Name (Cost File)'] = merged_df['Campaign']"
   ]
  },
  {
   "cell_type": "code",
   "execution_count": 100,
   "metadata": {},
   "outputs": [],
   "source": [
    "merged_df['Campaign Name (Cost File)'].replace(cost_rename,inplace=True)"
   ]
  },
  {
   "cell_type": "code",
   "execution_count": 102,
   "metadata": {},
   "outputs": [
    {
     "data": {
      "text/plain": [
       "99"
      ]
     },
     "execution_count": 102,
     "metadata": {},
     "output_type": "execute_result"
    }
   ],
   "source": [
    "merged_df['Campaign Name (Cost File)'].nunique()"
   ]
  },
  {
   "cell_type": "code",
   "execution_count": 43,
   "metadata": {
    "scrolled": true
   },
   "outputs": [
    {
     "data": {
      "text/plain": [
       "(not set)    97928\n",
       "Tracking     37991\n",
       "Display      11612\n",
       "Name: Creative Type, dtype: int64"
      ]
     },
     "execution_count": 43,
     "metadata": {},
     "output_type": "execute_result"
    }
   ],
   "source": [
    "cond1 = merged_df['Clicks'] >= 0\n",
    "cond2 = merged_df['Impressions'] == 0\n",
    "cond3 = merged_df['Placement Pixel Size']=='1 x 1'\n",
    "cond4 = merged_df['Creative Type']=='Display'\n",
    "merged_df[cond3]['Creative Type'].value_counts()"
   ]
  },
  {
   "cell_type": "markdown",
   "metadata": {},
   "source": [
    "When the number of Impressions == 0 and Clicks is greater than zero we need a new Creative Type called \"one_pix_track\". "
   ]
  },
  {
   "cell_type": "code",
   "execution_count": 47,
   "metadata": {},
   "outputs": [
    {
     "data": {
      "text/html": [
       "<div>\n",
       "<style scoped>\n",
       "    .dataframe tbody tr th:only-of-type {\n",
       "        vertical-align: middle;\n",
       "    }\n",
       "\n",
       "    .dataframe tbody tr th {\n",
       "        vertical-align: top;\n",
       "    }\n",
       "\n",
       "    .dataframe thead th {\n",
       "        text-align: right;\n",
       "    }\n",
       "</style>\n",
       "<table border=\"1\" class=\"dataframe\">\n",
       "  <thead>\n",
       "    <tr style=\"text-align: right;\">\n",
       "      <th></th>\n",
       "      <th>Date</th>\n",
       "      <th>Advertiser ID</th>\n",
       "      <th>Advertiser</th>\n",
       "      <th>Campaign ID</th>\n",
       "      <th>Campaign</th>\n",
       "      <th>Site ID (DCM)</th>\n",
       "      <th>Site (DCM)</th>\n",
       "      <th>Creative ID</th>\n",
       "      <th>Creative</th>\n",
       "      <th>Creative Type</th>\n",
       "      <th>...</th>\n",
       "      <th>Clicks</th>\n",
       "      <th>Impressions</th>\n",
       "      <th>Active View: Viewable Impressions</th>\n",
       "      <th>Active View: Measurable Impressions</th>\n",
       "      <th>Active View: Eligible Impressions</th>\n",
       "      <th>Click Rate</th>\n",
       "      <th>Activity Bin</th>\n",
       "      <th>Pixel Area</th>\n",
       "      <th>Year</th>\n",
       "      <th>Month</th>\n",
       "    </tr>\n",
       "  </thead>\n",
       "  <tbody>\n",
       "    <tr>\n",
       "      <th>0</th>\n",
       "      <td>2018-01-01</td>\n",
       "      <td>4476036</td>\n",
       "      <td>University of the West of England (UWE)</td>\n",
       "      <td>10379722</td>\n",
       "      <td>UWE UG2017 HAS Campaign (032996)</td>\n",
       "      <td>1434033</td>\n",
       "      <td>The Complete University Guide</td>\n",
       "      <td>(not set)</td>\n",
       "      <td>(not set)</td>\n",
       "      <td>(not set)</td>\n",
       "      <td>...</td>\n",
       "      <td>1</td>\n",
       "      <td>0</td>\n",
       "      <td>0</td>\n",
       "      <td>0</td>\n",
       "      <td>0</td>\n",
       "      <td>NaN</td>\n",
       "      <td>Other Pages</td>\n",
       "      <td>1</td>\n",
       "      <td>2018</td>\n",
       "      <td>1</td>\n",
       "    </tr>\n",
       "    <tr>\n",
       "      <th>1</th>\n",
       "      <td>2018-01-01</td>\n",
       "      <td>4476036</td>\n",
       "      <td>University of the West of England (UWE)</td>\n",
       "      <td>10379722</td>\n",
       "      <td>UWE UG2017 HAS Campaign (032996)</td>\n",
       "      <td>1434033</td>\n",
       "      <td>The Complete University Guide</td>\n",
       "      <td>(not set)</td>\n",
       "      <td>(not set)</td>\n",
       "      <td>(not set)</td>\n",
       "      <td>...</td>\n",
       "      <td>1</td>\n",
       "      <td>0</td>\n",
       "      <td>0</td>\n",
       "      <td>0</td>\n",
       "      <td>0</td>\n",
       "      <td>NaN</td>\n",
       "      <td>Other Pages</td>\n",
       "      <td>1</td>\n",
       "      <td>2018</td>\n",
       "      <td>1</td>\n",
       "    </tr>\n",
       "    <tr>\n",
       "      <th>2</th>\n",
       "      <td>2018-01-03</td>\n",
       "      <td>4476036</td>\n",
       "      <td>University of the West of England (UWE)</td>\n",
       "      <td>10379722</td>\n",
       "      <td>UWE UG2017 HAS Campaign (032996)</td>\n",
       "      <td>1434033</td>\n",
       "      <td>The Complete University Guide</td>\n",
       "      <td>(not set)</td>\n",
       "      <td>(not set)</td>\n",
       "      <td>(not set)</td>\n",
       "      <td>...</td>\n",
       "      <td>1</td>\n",
       "      <td>0</td>\n",
       "      <td>0</td>\n",
       "      <td>0</td>\n",
       "      <td>0</td>\n",
       "      <td>NaN</td>\n",
       "      <td>Other Pages</td>\n",
       "      <td>1</td>\n",
       "      <td>2018</td>\n",
       "      <td>1</td>\n",
       "    </tr>\n",
       "    <tr>\n",
       "      <th>3</th>\n",
       "      <td>2018-01-03</td>\n",
       "      <td>4476036</td>\n",
       "      <td>University of the West of England (UWE)</td>\n",
       "      <td>10379722</td>\n",
       "      <td>UWE UG2017 HAS Campaign (032996)</td>\n",
       "      <td>1434033</td>\n",
       "      <td>The Complete University Guide</td>\n",
       "      <td>(not set)</td>\n",
       "      <td>(not set)</td>\n",
       "      <td>(not set)</td>\n",
       "      <td>...</td>\n",
       "      <td>1</td>\n",
       "      <td>0</td>\n",
       "      <td>0</td>\n",
       "      <td>0</td>\n",
       "      <td>0</td>\n",
       "      <td>NaN</td>\n",
       "      <td>Other Pages</td>\n",
       "      <td>1</td>\n",
       "      <td>2018</td>\n",
       "      <td>1</td>\n",
       "    </tr>\n",
       "    <tr>\n",
       "      <th>4</th>\n",
       "      <td>2018-01-01</td>\n",
       "      <td>4476036</td>\n",
       "      <td>University of the West of England (UWE)</td>\n",
       "      <td>10496824</td>\n",
       "      <td>UWE PG2017 MSc Urban and Rural Planning (033135)</td>\n",
       "      <td>1503097</td>\n",
       "      <td>Google Display Network</td>\n",
       "      <td>75480110</td>\n",
       "      <td>Tracking Ad - 1x1</td>\n",
       "      <td>Tracking</td>\n",
       "      <td>...</td>\n",
       "      <td>1</td>\n",
       "      <td>0</td>\n",
       "      <td>0</td>\n",
       "      <td>0</td>\n",
       "      <td>0</td>\n",
       "      <td>NaN</td>\n",
       "      <td>Other Pages</td>\n",
       "      <td>1</td>\n",
       "      <td>2018</td>\n",
       "      <td>1</td>\n",
       "    </tr>\n",
       "  </tbody>\n",
       "</table>\n",
       "<p>5 rows × 28 columns</p>\n",
       "</div>"
      ],
      "text/plain": [
       "         Date Advertiser ID                               Advertiser  \\\n",
       "0  2018-01-01       4476036  University of the West of England (UWE)   \n",
       "1  2018-01-01       4476036  University of the West of England (UWE)   \n",
       "2  2018-01-03       4476036  University of the West of England (UWE)   \n",
       "3  2018-01-03       4476036  University of the West of England (UWE)   \n",
       "4  2018-01-01       4476036  University of the West of England (UWE)   \n",
       "\n",
       "  Campaign ID                                          Campaign Site ID (DCM)  \\\n",
       "0    10379722                  UWE UG2017 HAS Campaign (032996)       1434033   \n",
       "1    10379722                  UWE UG2017 HAS Campaign (032996)       1434033   \n",
       "2    10379722                  UWE UG2017 HAS Campaign (032996)       1434033   \n",
       "3    10379722                  UWE UG2017 HAS Campaign (032996)       1434033   \n",
       "4    10496824  UWE PG2017 MSc Urban and Rural Planning (033135)       1503097   \n",
       "\n",
       "                      Site (DCM) Creative ID           Creative Creative Type  \\\n",
       "0  The Complete University Guide   (not set)          (not set)     (not set)   \n",
       "1  The Complete University Guide   (not set)          (not set)     (not set)   \n",
       "2  The Complete University Guide   (not set)          (not set)     (not set)   \n",
       "3  The Complete University Guide   (not set)          (not set)     (not set)   \n",
       "4         Google Display Network    75480110  Tracking Ad - 1x1      Tracking   \n",
       "\n",
       "   ... Clicks Impressions Active View: Viewable Impressions  \\\n",
       "0  ...      1           0                                 0   \n",
       "1  ...      1           0                                 0   \n",
       "2  ...      1           0                                 0   \n",
       "3  ...      1           0                                 0   \n",
       "4  ...      1           0                                 0   \n",
       "\n",
       "  Active View: Measurable Impressions  Active View: Eligible Impressions  \\\n",
       "0                                   0                                  0   \n",
       "1                                   0                                  0   \n",
       "2                                   0                                  0   \n",
       "3                                   0                                  0   \n",
       "4                                   0                                  0   \n",
       "\n",
       "   Click Rate  Activity Bin Pixel Area  Year  Month  \n",
       "0         NaN   Other Pages          1  2018      1  \n",
       "1         NaN   Other Pages          1  2018      1  \n",
       "2         NaN   Other Pages          1  2018      1  \n",
       "3         NaN   Other Pages          1  2018      1  \n",
       "4         NaN   Other Pages          1  2018      1  \n",
       "\n",
       "[5 rows x 28 columns]"
      ]
     },
     "execution_count": 47,
     "metadata": {},
     "output_type": "execute_result"
    }
   ],
   "source": [
    "#cond1=merged_df['Clicks']>0\n",
    "#cond2=merged_df['Impressions']==0\n",
    "#merged_df.loc[cond1 & cond2, 'Creative Type'] = 'one_pix_track'\n",
    "\n",
    "#cond1=merged_df['Placement Pixel Size']=='1 x 1'\n",
    "#merged_df.loc[cond1, 'Creative Type'] = 'Tracking'\n",
    "\n",
    "merged_df.head()"
   ]
  },
  {
   "cell_type": "markdown",
   "metadata": {},
   "source": [
    "Write out merged_df to a csv file"
   ]
  },
  {
   "cell_type": "code",
   "execution_count": 48,
   "metadata": {},
   "outputs": [],
   "source": [
    "merged_df.to_csv(\"Clean_data/Merged_data.csv\", index=False)"
   ]
  },
  {
   "cell_type": "markdown",
   "metadata": {},
   "source": [
    "Sanity check that the number of NaN entries for Click Rate is what we expect - we probably do not need this though"
   ]
  },
  {
   "cell_type": "code",
   "execution_count": 21,
   "metadata": {},
   "outputs": [
    {
     "data": {
      "text/plain": [
       "103281"
      ]
     },
     "execution_count": 21,
     "metadata": {},
     "output_type": "execute_result"
    }
   ],
   "source": [
    "merged_df['Click Rate'].isnull().sum()"
   ]
  },
  {
   "cell_type": "code",
   "execution_count": 22,
   "metadata": {},
   "outputs": [
    {
     "data": {
      "text/plain": [
       "1 x 1        37991\n",
       "300 x 250       28\n",
       "Name: Placement Pixel Size, dtype: int64"
      ]
     },
     "execution_count": 22,
     "metadata": {},
     "output_type": "execute_result"
    }
   ],
   "source": [
    "merged_df[merged_df['Creative Type']=='Tracking']['Placement Pixel Size'].value_counts()"
   ]
  },
  {
   "cell_type": "code",
   "execution_count": 23,
   "metadata": {},
   "outputs": [
    {
     "data": {
      "text/plain": [
       "Display      632786\n",
       "(not set)     97930\n",
       "Tracking      38019\n",
       "Name: Creative Type, dtype: int64"
      ]
     },
     "execution_count": 23,
     "metadata": {},
     "output_type": "execute_result"
    }
   ],
   "source": [
    "merged_df['Creative Type'].value_counts()"
   ]
  },
  {
   "cell_type": "code",
   "execution_count": null,
   "metadata": {},
   "outputs": [],
   "source": []
  }
 ],
 "metadata": {
  "kernelspec": {
   "display_name": "Python 3",
   "language": "python",
   "name": "python3"
  },
  "language_info": {
   "codemirror_mode": {
    "name": "ipython",
    "version": 3
   },
   "file_extension": ".py",
   "mimetype": "text/x-python",
   "name": "python",
   "nbconvert_exporter": "python",
   "pygments_lexer": "ipython3",
   "version": "3.7.3"
  }
 },
 "nbformat": 4,
 "nbformat_minor": 2
}
