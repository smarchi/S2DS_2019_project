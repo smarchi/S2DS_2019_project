{
 "cells": [
  {
   "cell_type": "markdown",
   "metadata": {},
   "source": [
    "# Performance data cleaning"
   ]
  },
  {
   "cell_type": "markdown",
   "metadata": {},
   "source": [
    "This is the data cleaning for the performance files"
   ]
  },
  {
   "cell_type": "code",
   "execution_count": 1,
   "metadata": {},
   "outputs": [],
   "source": [
    "import pandas as pd\n",
    "from matplotlib import pyplot as plt\n",
    "import seaborn as sns\n",
    "import numpy as np"
   ]
  },
  {
   "cell_type": "code",
   "execution_count": 2,
   "metadata": {
    "scrolled": true
   },
   "outputs": [
    {
     "name": "stderr",
     "output_type": "stream",
     "text": [
      "C:\\ProgramData\\Anaconda3\\lib\\site-packages\\IPython\\core\\interactiveshell.py:3049: DtypeWarning: Columns (1,3,5) have mixed types. Specify dtype option on import or set low_memory=False.\n",
      "  interactivity=interactivity, compiler=compiler, result=result)\n"
     ]
    }
   ],
   "source": [
    "uwe_performance_df_raw = pd.read_csv(\"Raw_data/UWE/Pivigo_UWE_Performance.csv\", header=9)\n",
    "tees_performance_df_raw = pd.read_csv(\"Raw_data/Teesside/Pivigo_Tees_Performance.csv\", header=9)\n",
    "uwe_performance_df = uwe_performance_df_raw.copy()\n",
    "tees_performance_df = tees_performance_df_raw.copy()"
   ]
  },
  {
   "cell_type": "code",
   "execution_count": 3,
   "metadata": {
    "scrolled": true
   },
   "outputs": [
    {
     "data": {
      "text/html": [
       "<div>\n",
       "<style scoped>\n",
       "    .dataframe tbody tr th:only-of-type {\n",
       "        vertical-align: middle;\n",
       "    }\n",
       "\n",
       "    .dataframe tbody tr th {\n",
       "        vertical-align: top;\n",
       "    }\n",
       "\n",
       "    .dataframe thead th {\n",
       "        text-align: right;\n",
       "    }\n",
       "</style>\n",
       "<table border=\"1\" class=\"dataframe\">\n",
       "  <thead>\n",
       "    <tr style=\"text-align: right;\">\n",
       "      <th></th>\n",
       "      <th>Date</th>\n",
       "      <th>Advertiser ID</th>\n",
       "      <th>Advertiser</th>\n",
       "      <th>Campaign ID</th>\n",
       "      <th>Campaign</th>\n",
       "      <th>Site ID (DCM)</th>\n",
       "      <th>Site (DCM)</th>\n",
       "      <th>Creative ID</th>\n",
       "      <th>Creative</th>\n",
       "      <th>Creative Type</th>\n",
       "      <th>Placement Pixel Size</th>\n",
       "      <th>Platform Type</th>\n",
       "      <th>City</th>\n",
       "      <th>Country</th>\n",
       "      <th>Impressions</th>\n",
       "      <th>Clicks</th>\n",
       "      <th>Click Rate</th>\n",
       "      <th>Active View: Viewable Impressions</th>\n",
       "      <th>Active View: Measurable Impressions</th>\n",
       "      <th>Active View: Eligible Impressions</th>\n",
       "    </tr>\n",
       "  </thead>\n",
       "  <tbody>\n",
       "    <tr>\n",
       "      <th>0</th>\n",
       "      <td>2018-01-01</td>\n",
       "      <td>4476036</td>\n",
       "      <td>University of the West of England (UWE)</td>\n",
       "      <td>8431696</td>\n",
       "      <td>DART Search</td>\n",
       "      <td>1317835</td>\n",
       "      <td>DART Search : Google : 18208</td>\n",
       "      <td>(not set)</td>\n",
       "      <td>(not set)</td>\n",
       "      <td>(not set)</td>\n",
       "      <td>1 x 1</td>\n",
       "      <td>Desktop</td>\n",
       "      <td>Aberdeen</td>\n",
       "      <td>United Kingdom</td>\n",
       "      <td>0</td>\n",
       "      <td>1</td>\n",
       "      <td>0.0</td>\n",
       "      <td>0</td>\n",
       "      <td>0</td>\n",
       "      <td>0</td>\n",
       "    </tr>\n",
       "    <tr>\n",
       "      <th>1</th>\n",
       "      <td>2018-01-01</td>\n",
       "      <td>4476036</td>\n",
       "      <td>University of the West of England (UWE)</td>\n",
       "      <td>8431696</td>\n",
       "      <td>DART Search</td>\n",
       "      <td>1317835</td>\n",
       "      <td>DART Search : Google : 18208</td>\n",
       "      <td>(not set)</td>\n",
       "      <td>(not set)</td>\n",
       "      <td>(not set)</td>\n",
       "      <td>1 x 1</td>\n",
       "      <td>Desktop</td>\n",
       "      <td>Aberystwyth</td>\n",
       "      <td>United Kingdom</td>\n",
       "      <td>0</td>\n",
       "      <td>1</td>\n",
       "      <td>0.0</td>\n",
       "      <td>0</td>\n",
       "      <td>0</td>\n",
       "      <td>0</td>\n",
       "    </tr>\n",
       "    <tr>\n",
       "      <th>2</th>\n",
       "      <td>2018-01-01</td>\n",
       "      <td>4476036</td>\n",
       "      <td>University of the West of England (UWE)</td>\n",
       "      <td>8431696</td>\n",
       "      <td>DART Search</td>\n",
       "      <td>1317835</td>\n",
       "      <td>DART Search : Google : 18208</td>\n",
       "      <td>(not set)</td>\n",
       "      <td>(not set)</td>\n",
       "      <td>(not set)</td>\n",
       "      <td>1 x 1</td>\n",
       "      <td>Desktop</td>\n",
       "      <td>Aylesbury</td>\n",
       "      <td>United Kingdom</td>\n",
       "      <td>0</td>\n",
       "      <td>2</td>\n",
       "      <td>0.0</td>\n",
       "      <td>0</td>\n",
       "      <td>0</td>\n",
       "      <td>0</td>\n",
       "    </tr>\n",
       "    <tr>\n",
       "      <th>3</th>\n",
       "      <td>2018-01-01</td>\n",
       "      <td>4476036</td>\n",
       "      <td>University of the West of England (UWE)</td>\n",
       "      <td>8431696</td>\n",
       "      <td>DART Search</td>\n",
       "      <td>1317835</td>\n",
       "      <td>DART Search : Google : 18208</td>\n",
       "      <td>(not set)</td>\n",
       "      <td>(not set)</td>\n",
       "      <td>(not set)</td>\n",
       "      <td>1 x 1</td>\n",
       "      <td>Desktop</td>\n",
       "      <td>Bangalore</td>\n",
       "      <td>India</td>\n",
       "      <td>0</td>\n",
       "      <td>1</td>\n",
       "      <td>0.0</td>\n",
       "      <td>0</td>\n",
       "      <td>0</td>\n",
       "      <td>0</td>\n",
       "    </tr>\n",
       "    <tr>\n",
       "      <th>4</th>\n",
       "      <td>2018-01-01</td>\n",
       "      <td>4476036</td>\n",
       "      <td>University of the West of England (UWE)</td>\n",
       "      <td>8431696</td>\n",
       "      <td>DART Search</td>\n",
       "      <td>1317835</td>\n",
       "      <td>DART Search : Google : 18208</td>\n",
       "      <td>(not set)</td>\n",
       "      <td>(not set)</td>\n",
       "      <td>(not set)</td>\n",
       "      <td>1 x 1</td>\n",
       "      <td>Desktop</td>\n",
       "      <td>Birmingham</td>\n",
       "      <td>United Kingdom</td>\n",
       "      <td>0</td>\n",
       "      <td>4</td>\n",
       "      <td>0.0</td>\n",
       "      <td>0</td>\n",
       "      <td>0</td>\n",
       "      <td>0</td>\n",
       "    </tr>\n",
       "  </tbody>\n",
       "</table>\n",
       "</div>"
      ],
      "text/plain": [
       "         Date Advertiser ID                               Advertiser  \\\n",
       "0  2018-01-01       4476036  University of the West of England (UWE)   \n",
       "1  2018-01-01       4476036  University of the West of England (UWE)   \n",
       "2  2018-01-01       4476036  University of the West of England (UWE)   \n",
       "3  2018-01-01       4476036  University of the West of England (UWE)   \n",
       "4  2018-01-01       4476036  University of the West of England (UWE)   \n",
       "\n",
       "  Campaign ID     Campaign Site ID (DCM)                    Site (DCM)  \\\n",
       "0     8431696  DART Search       1317835  DART Search : Google : 18208   \n",
       "1     8431696  DART Search       1317835  DART Search : Google : 18208   \n",
       "2     8431696  DART Search       1317835  DART Search : Google : 18208   \n",
       "3     8431696  DART Search       1317835  DART Search : Google : 18208   \n",
       "4     8431696  DART Search       1317835  DART Search : Google : 18208   \n",
       "\n",
       "  Creative ID   Creative Creative Type Placement Pixel Size Platform Type  \\\n",
       "0   (not set)  (not set)     (not set)                1 x 1       Desktop   \n",
       "1   (not set)  (not set)     (not set)                1 x 1       Desktop   \n",
       "2   (not set)  (not set)     (not set)                1 x 1       Desktop   \n",
       "3   (not set)  (not set)     (not set)                1 x 1       Desktop   \n",
       "4   (not set)  (not set)     (not set)                1 x 1       Desktop   \n",
       "\n",
       "          City         Country  Impressions  Clicks  Click Rate  \\\n",
       "0     Aberdeen  United Kingdom            0       1         0.0   \n",
       "1  Aberystwyth  United Kingdom            0       1         0.0   \n",
       "2    Aylesbury  United Kingdom            0       2         0.0   \n",
       "3    Bangalore           India            0       1         0.0   \n",
       "4   Birmingham  United Kingdom            0       4         0.0   \n",
       "\n",
       "   Active View: Viewable Impressions  Active View: Measurable Impressions  \\\n",
       "0                                  0                                    0   \n",
       "1                                  0                                    0   \n",
       "2                                  0                                    0   \n",
       "3                                  0                                    0   \n",
       "4                                  0                                    0   \n",
       "\n",
       "   Active View: Eligible Impressions  \n",
       "0                                  0  \n",
       "1                                  0  \n",
       "2                                  0  \n",
       "3                                  0  \n",
       "4                                  0  "
      ]
     },
     "execution_count": 3,
     "metadata": {},
     "output_type": "execute_result"
    }
   ],
   "source": [
    "uwe_performance_df.head(5)"
   ]
  },
  {
   "cell_type": "code",
   "execution_count": 4,
   "metadata": {
    "scrolled": true
   },
   "outputs": [
    {
     "data": {
      "text/html": [
       "<div>\n",
       "<style scoped>\n",
       "    .dataframe tbody tr th:only-of-type {\n",
       "        vertical-align: middle;\n",
       "    }\n",
       "\n",
       "    .dataframe tbody tr th {\n",
       "        vertical-align: top;\n",
       "    }\n",
       "\n",
       "    .dataframe thead th {\n",
       "        text-align: right;\n",
       "    }\n",
       "</style>\n",
       "<table border=\"1\" class=\"dataframe\">\n",
       "  <thead>\n",
       "    <tr style=\"text-align: right;\">\n",
       "      <th></th>\n",
       "      <th>Date</th>\n",
       "      <th>Advertiser ID</th>\n",
       "      <th>Advertiser</th>\n",
       "      <th>Campaign ID</th>\n",
       "      <th>Campaign</th>\n",
       "      <th>Site ID (DCM)</th>\n",
       "      <th>Site (DCM)</th>\n",
       "      <th>Creative ID</th>\n",
       "      <th>Creative</th>\n",
       "      <th>Creative Type</th>\n",
       "      <th>Placement Pixel Size</th>\n",
       "      <th>Platform Type</th>\n",
       "      <th>City</th>\n",
       "      <th>Country</th>\n",
       "      <th>Impressions</th>\n",
       "      <th>Clicks</th>\n",
       "      <th>Click Rate</th>\n",
       "      <th>Active View: Viewable Impressions</th>\n",
       "      <th>Active View: Measurable Impressions</th>\n",
       "      <th>Active View: Eligible Impressions</th>\n",
       "    </tr>\n",
       "  </thead>\n",
       "  <tbody>\n",
       "    <tr>\n",
       "      <th>0</th>\n",
       "      <td>2018-01-01</td>\n",
       "      <td>5655503</td>\n",
       "      <td>Teesside University</td>\n",
       "      <td>10037325</td>\n",
       "      <td>DART Search</td>\n",
       "      <td>1317835</td>\n",
       "      <td>DART Search : Google : 18208</td>\n",
       "      <td>(not set)</td>\n",
       "      <td>(not set)</td>\n",
       "      <td>(not set)</td>\n",
       "      <td>1 x 1</td>\n",
       "      <td>Desktop</td>\n",
       "      <td>Burnley</td>\n",
       "      <td>United Kingdom</td>\n",
       "      <td>0</td>\n",
       "      <td>1</td>\n",
       "      <td>0.0</td>\n",
       "      <td>0</td>\n",
       "      <td>0</td>\n",
       "      <td>0</td>\n",
       "    </tr>\n",
       "    <tr>\n",
       "      <th>1</th>\n",
       "      <td>2018-01-01</td>\n",
       "      <td>5655503</td>\n",
       "      <td>Teesside University</td>\n",
       "      <td>10037325</td>\n",
       "      <td>DART Search</td>\n",
       "      <td>1317835</td>\n",
       "      <td>DART Search : Google : 18208</td>\n",
       "      <td>(not set)</td>\n",
       "      <td>(not set)</td>\n",
       "      <td>(not set)</td>\n",
       "      <td>1 x 1</td>\n",
       "      <td>Desktop</td>\n",
       "      <td>Darlington</td>\n",
       "      <td>United Kingdom</td>\n",
       "      <td>0</td>\n",
       "      <td>1</td>\n",
       "      <td>0.0</td>\n",
       "      <td>0</td>\n",
       "      <td>0</td>\n",
       "      <td>0</td>\n",
       "    </tr>\n",
       "    <tr>\n",
       "      <th>2</th>\n",
       "      <td>2018-01-01</td>\n",
       "      <td>5655503</td>\n",
       "      <td>Teesside University</td>\n",
       "      <td>10037325</td>\n",
       "      <td>DART Search</td>\n",
       "      <td>1317835</td>\n",
       "      <td>DART Search : Google : 18208</td>\n",
       "      <td>(not set)</td>\n",
       "      <td>(not set)</td>\n",
       "      <td>(not set)</td>\n",
       "      <td>1 x 1</td>\n",
       "      <td>Desktop</td>\n",
       "      <td>Glasgow</td>\n",
       "      <td>United Kingdom</td>\n",
       "      <td>0</td>\n",
       "      <td>2</td>\n",
       "      <td>0.0</td>\n",
       "      <td>0</td>\n",
       "      <td>0</td>\n",
       "      <td>0</td>\n",
       "    </tr>\n",
       "    <tr>\n",
       "      <th>3</th>\n",
       "      <td>2018-01-01</td>\n",
       "      <td>5655503</td>\n",
       "      <td>Teesside University</td>\n",
       "      <td>10037325</td>\n",
       "      <td>DART Search</td>\n",
       "      <td>1317835</td>\n",
       "      <td>DART Search : Google : 18208</td>\n",
       "      <td>(not set)</td>\n",
       "      <td>(not set)</td>\n",
       "      <td>(not set)</td>\n",
       "      <td>1 x 1</td>\n",
       "      <td>Desktop</td>\n",
       "      <td>Hartlepool</td>\n",
       "      <td>United Kingdom</td>\n",
       "      <td>0</td>\n",
       "      <td>1</td>\n",
       "      <td>0.0</td>\n",
       "      <td>0</td>\n",
       "      <td>0</td>\n",
       "      <td>0</td>\n",
       "    </tr>\n",
       "    <tr>\n",
       "      <th>4</th>\n",
       "      <td>2018-01-01</td>\n",
       "      <td>5655503</td>\n",
       "      <td>Teesside University</td>\n",
       "      <td>10037325</td>\n",
       "      <td>DART Search</td>\n",
       "      <td>1317835</td>\n",
       "      <td>DART Search : Google : 18208</td>\n",
       "      <td>(not set)</td>\n",
       "      <td>(not set)</td>\n",
       "      <td>(not set)</td>\n",
       "      <td>1 x 1</td>\n",
       "      <td>Desktop</td>\n",
       "      <td>Hove</td>\n",
       "      <td>United Kingdom</td>\n",
       "      <td>0</td>\n",
       "      <td>1</td>\n",
       "      <td>0.0</td>\n",
       "      <td>0</td>\n",
       "      <td>0</td>\n",
       "      <td>0</td>\n",
       "    </tr>\n",
       "  </tbody>\n",
       "</table>\n",
       "</div>"
      ],
      "text/plain": [
       "         Date Advertiser ID           Advertiser Campaign ID     Campaign  \\\n",
       "0  2018-01-01       5655503  Teesside University    10037325  DART Search   \n",
       "1  2018-01-01       5655503  Teesside University    10037325  DART Search   \n",
       "2  2018-01-01       5655503  Teesside University    10037325  DART Search   \n",
       "3  2018-01-01       5655503  Teesside University    10037325  DART Search   \n",
       "4  2018-01-01       5655503  Teesside University    10037325  DART Search   \n",
       "\n",
       "  Site ID (DCM)                    Site (DCM) Creative ID   Creative  \\\n",
       "0       1317835  DART Search : Google : 18208   (not set)  (not set)   \n",
       "1       1317835  DART Search : Google : 18208   (not set)  (not set)   \n",
       "2       1317835  DART Search : Google : 18208   (not set)  (not set)   \n",
       "3       1317835  DART Search : Google : 18208   (not set)  (not set)   \n",
       "4       1317835  DART Search : Google : 18208   (not set)  (not set)   \n",
       "\n",
       "  Creative Type Placement Pixel Size Platform Type        City  \\\n",
       "0     (not set)                1 x 1       Desktop     Burnley   \n",
       "1     (not set)                1 x 1       Desktop  Darlington   \n",
       "2     (not set)                1 x 1       Desktop     Glasgow   \n",
       "3     (not set)                1 x 1       Desktop  Hartlepool   \n",
       "4     (not set)                1 x 1       Desktop        Hove   \n",
       "\n",
       "          Country  Impressions  Clicks  Click Rate  \\\n",
       "0  United Kingdom            0       1         0.0   \n",
       "1  United Kingdom            0       1         0.0   \n",
       "2  United Kingdom            0       2         0.0   \n",
       "3  United Kingdom            0       1         0.0   \n",
       "4  United Kingdom            0       1         0.0   \n",
       "\n",
       "   Active View: Viewable Impressions  Active View: Measurable Impressions  \\\n",
       "0                                  0                                    0   \n",
       "1                                  0                                    0   \n",
       "2                                  0                                    0   \n",
       "3                                  0                                    0   \n",
       "4                                  0                                    0   \n",
       "\n",
       "   Active View: Eligible Impressions  \n",
       "0                                  0  \n",
       "1                                  0  \n",
       "2                                  0  \n",
       "3                                  0  \n",
       "4                                  0  "
      ]
     },
     "execution_count": 4,
     "metadata": {},
     "output_type": "execute_result"
    }
   ],
   "source": [
    "tees_performance_df.head(5)"
   ]
  },
  {
   "cell_type": "code",
   "execution_count": 5,
   "metadata": {
    "scrolled": true
   },
   "outputs": [
    {
     "data": {
      "text/plain": [
       "True"
      ]
     },
     "execution_count": 5,
     "metadata": {},
     "output_type": "execute_result"
    }
   ],
   "source": [
    "np.all(uwe_performance_df.columns==tees_performance_df.columns)"
   ]
  },
  {
   "cell_type": "code",
   "execution_count": 6,
   "metadata": {},
   "outputs": [],
   "source": [
    "performance_df=uwe_performance_df.append(tees_performance_df,ignore_index=True)"
   ]
  },
  {
   "cell_type": "code",
   "execution_count": 7,
   "metadata": {},
   "outputs": [
    {
     "data": {
      "text/html": [
       "<div>\n",
       "<style scoped>\n",
       "    .dataframe tbody tr th:only-of-type {\n",
       "        vertical-align: middle;\n",
       "    }\n",
       "\n",
       "    .dataframe tbody tr th {\n",
       "        vertical-align: top;\n",
       "    }\n",
       "\n",
       "    .dataframe thead th {\n",
       "        text-align: right;\n",
       "    }\n",
       "</style>\n",
       "<table border=\"1\" class=\"dataframe\">\n",
       "  <thead>\n",
       "    <tr style=\"text-align: right;\">\n",
       "      <th></th>\n",
       "      <th>Date</th>\n",
       "      <th>Advertiser ID</th>\n",
       "      <th>Advertiser</th>\n",
       "      <th>Campaign ID</th>\n",
       "      <th>Campaign</th>\n",
       "      <th>Site ID (DCM)</th>\n",
       "      <th>Site (DCM)</th>\n",
       "      <th>Creative ID</th>\n",
       "      <th>Creative</th>\n",
       "      <th>Creative Type</th>\n",
       "      <th>Placement Pixel Size</th>\n",
       "      <th>Platform Type</th>\n",
       "      <th>City</th>\n",
       "      <th>Country</th>\n",
       "      <th>Impressions</th>\n",
       "      <th>Clicks</th>\n",
       "      <th>Click Rate</th>\n",
       "      <th>Active View: Viewable Impressions</th>\n",
       "      <th>Active View: Measurable Impressions</th>\n",
       "      <th>Active View: Eligible Impressions</th>\n",
       "    </tr>\n",
       "  </thead>\n",
       "  <tbody>\n",
       "    <tr>\n",
       "      <th>0</th>\n",
       "      <td>2018-01-01</td>\n",
       "      <td>4476036</td>\n",
       "      <td>University of the West of England (UWE)</td>\n",
       "      <td>8431696</td>\n",
       "      <td>DART Search</td>\n",
       "      <td>1317835</td>\n",
       "      <td>DART Search : Google : 18208</td>\n",
       "      <td>(not set)</td>\n",
       "      <td>(not set)</td>\n",
       "      <td>(not set)</td>\n",
       "      <td>1 x 1</td>\n",
       "      <td>Desktop</td>\n",
       "      <td>Aberdeen</td>\n",
       "      <td>United Kingdom</td>\n",
       "      <td>0</td>\n",
       "      <td>1</td>\n",
       "      <td>0.0</td>\n",
       "      <td>0</td>\n",
       "      <td>0</td>\n",
       "      <td>0</td>\n",
       "    </tr>\n",
       "    <tr>\n",
       "      <th>1</th>\n",
       "      <td>2018-01-01</td>\n",
       "      <td>4476036</td>\n",
       "      <td>University of the West of England (UWE)</td>\n",
       "      <td>8431696</td>\n",
       "      <td>DART Search</td>\n",
       "      <td>1317835</td>\n",
       "      <td>DART Search : Google : 18208</td>\n",
       "      <td>(not set)</td>\n",
       "      <td>(not set)</td>\n",
       "      <td>(not set)</td>\n",
       "      <td>1 x 1</td>\n",
       "      <td>Desktop</td>\n",
       "      <td>Aberystwyth</td>\n",
       "      <td>United Kingdom</td>\n",
       "      <td>0</td>\n",
       "      <td>1</td>\n",
       "      <td>0.0</td>\n",
       "      <td>0</td>\n",
       "      <td>0</td>\n",
       "      <td>0</td>\n",
       "    </tr>\n",
       "    <tr>\n",
       "      <th>2</th>\n",
       "      <td>2018-01-01</td>\n",
       "      <td>4476036</td>\n",
       "      <td>University of the West of England (UWE)</td>\n",
       "      <td>8431696</td>\n",
       "      <td>DART Search</td>\n",
       "      <td>1317835</td>\n",
       "      <td>DART Search : Google : 18208</td>\n",
       "      <td>(not set)</td>\n",
       "      <td>(not set)</td>\n",
       "      <td>(not set)</td>\n",
       "      <td>1 x 1</td>\n",
       "      <td>Desktop</td>\n",
       "      <td>Aylesbury</td>\n",
       "      <td>United Kingdom</td>\n",
       "      <td>0</td>\n",
       "      <td>2</td>\n",
       "      <td>0.0</td>\n",
       "      <td>0</td>\n",
       "      <td>0</td>\n",
       "      <td>0</td>\n",
       "    </tr>\n",
       "    <tr>\n",
       "      <th>3</th>\n",
       "      <td>2018-01-01</td>\n",
       "      <td>4476036</td>\n",
       "      <td>University of the West of England (UWE)</td>\n",
       "      <td>8431696</td>\n",
       "      <td>DART Search</td>\n",
       "      <td>1317835</td>\n",
       "      <td>DART Search : Google : 18208</td>\n",
       "      <td>(not set)</td>\n",
       "      <td>(not set)</td>\n",
       "      <td>(not set)</td>\n",
       "      <td>1 x 1</td>\n",
       "      <td>Desktop</td>\n",
       "      <td>Bangalore</td>\n",
       "      <td>India</td>\n",
       "      <td>0</td>\n",
       "      <td>1</td>\n",
       "      <td>0.0</td>\n",
       "      <td>0</td>\n",
       "      <td>0</td>\n",
       "      <td>0</td>\n",
       "    </tr>\n",
       "    <tr>\n",
       "      <th>4</th>\n",
       "      <td>2018-01-01</td>\n",
       "      <td>4476036</td>\n",
       "      <td>University of the West of England (UWE)</td>\n",
       "      <td>8431696</td>\n",
       "      <td>DART Search</td>\n",
       "      <td>1317835</td>\n",
       "      <td>DART Search : Google : 18208</td>\n",
       "      <td>(not set)</td>\n",
       "      <td>(not set)</td>\n",
       "      <td>(not set)</td>\n",
       "      <td>1 x 1</td>\n",
       "      <td>Desktop</td>\n",
       "      <td>Birmingham</td>\n",
       "      <td>United Kingdom</td>\n",
       "      <td>0</td>\n",
       "      <td>4</td>\n",
       "      <td>0.0</td>\n",
       "      <td>0</td>\n",
       "      <td>0</td>\n",
       "      <td>0</td>\n",
       "    </tr>\n",
       "  </tbody>\n",
       "</table>\n",
       "</div>"
      ],
      "text/plain": [
       "         Date Advertiser ID                               Advertiser  \\\n",
       "0  2018-01-01       4476036  University of the West of England (UWE)   \n",
       "1  2018-01-01       4476036  University of the West of England (UWE)   \n",
       "2  2018-01-01       4476036  University of the West of England (UWE)   \n",
       "3  2018-01-01       4476036  University of the West of England (UWE)   \n",
       "4  2018-01-01       4476036  University of the West of England (UWE)   \n",
       "\n",
       "  Campaign ID     Campaign Site ID (DCM)                    Site (DCM)  \\\n",
       "0     8431696  DART Search       1317835  DART Search : Google : 18208   \n",
       "1     8431696  DART Search       1317835  DART Search : Google : 18208   \n",
       "2     8431696  DART Search       1317835  DART Search : Google : 18208   \n",
       "3     8431696  DART Search       1317835  DART Search : Google : 18208   \n",
       "4     8431696  DART Search       1317835  DART Search : Google : 18208   \n",
       "\n",
       "  Creative ID   Creative Creative Type Placement Pixel Size Platform Type  \\\n",
       "0   (not set)  (not set)     (not set)                1 x 1       Desktop   \n",
       "1   (not set)  (not set)     (not set)                1 x 1       Desktop   \n",
       "2   (not set)  (not set)     (not set)                1 x 1       Desktop   \n",
       "3   (not set)  (not set)     (not set)                1 x 1       Desktop   \n",
       "4   (not set)  (not set)     (not set)                1 x 1       Desktop   \n",
       "\n",
       "          City         Country  Impressions  Clicks  Click Rate  \\\n",
       "0     Aberdeen  United Kingdom            0       1         0.0   \n",
       "1  Aberystwyth  United Kingdom            0       1         0.0   \n",
       "2    Aylesbury  United Kingdom            0       2         0.0   \n",
       "3    Bangalore           India            0       1         0.0   \n",
       "4   Birmingham  United Kingdom            0       4         0.0   \n",
       "\n",
       "   Active View: Viewable Impressions  Active View: Measurable Impressions  \\\n",
       "0                                  0                                    0   \n",
       "1                                  0                                    0   \n",
       "2                                  0                                    0   \n",
       "3                                  0                                    0   \n",
       "4                                  0                                    0   \n",
       "\n",
       "   Active View: Eligible Impressions  \n",
       "0                                  0  \n",
       "1                                  0  \n",
       "2                                  0  \n",
       "3                                  0  \n",
       "4                                  0  "
      ]
     },
     "execution_count": 7,
     "metadata": {},
     "output_type": "execute_result"
    }
   ],
   "source": [
    "performance_df.head()"
   ]
  },
  {
   "cell_type": "code",
   "execution_count": 8,
   "metadata": {},
   "outputs": [],
   "source": [
    "assert(len(performance_df)==len(uwe_performance_df)+len(tees_performance_df))"
   ]
  },
  {
   "cell_type": "code",
   "execution_count": 9,
   "metadata": {},
   "outputs": [
    {
     "data": {
      "text/plain": [
       "(19245621, 20)"
      ]
     },
     "execution_count": 9,
     "metadata": {},
     "output_type": "execute_result"
    }
   ],
   "source": [
    "performance_df.shape"
   ]
  },
  {
   "cell_type": "code",
   "execution_count": 10,
   "metadata": {
    "scrolled": true
   },
   "outputs": [
    {
     "name": "stdout",
     "output_type": "stream",
     "text": [
      "<class 'pandas.core.frame.DataFrame'>\n",
      "RangeIndex: 19245621 entries, 0 to 19245620\n",
      "Data columns (total 20 columns):\n",
      "Date                                   object\n",
      "Advertiser ID                          object\n",
      "Advertiser                             object\n",
      "Campaign ID                            object\n",
      "Campaign                               object\n",
      "Site ID (DCM)                          object\n",
      "Site (DCM)                             object\n",
      "Creative ID                            object\n",
      "Creative                               object\n",
      "Creative Type                          object\n",
      "Placement Pixel Size                   object\n",
      "Platform Type                          object\n",
      "City                                   object\n",
      "Country                                object\n",
      "Impressions                            int64\n",
      "Clicks                                 int64\n",
      "Click Rate                             float64\n",
      "Active View: Viewable Impressions      int64\n",
      "Active View: Measurable Impressions    int64\n",
      "Active View: Eligible Impressions      int64\n",
      "dtypes: float64(1), int64(5), object(14)\n",
      "memory usage: 2.9+ GB\n"
     ]
    }
   ],
   "source": [
    "performance_df.info()"
   ]
  },
  {
   "cell_type": "markdown",
   "metadata": {},
   "source": [
    "Check if Advertiser ID, Campaign ID, Site ID and Creative ID are all strings or a mix of integers and strings.\n"
   ]
  },
  {
   "cell_type": "code",
   "execution_count": 11,
   "metadata": {},
   "outputs": [
    {
     "data": {
      "text/plain": [
       "Date                                   0\n",
       "Advertiser ID                          0\n",
       "Advertiser                             0\n",
       "Campaign ID                            0\n",
       "Campaign                               0\n",
       "Site ID (DCM)                          0\n",
       "Site (DCM)                             0\n",
       "Creative ID                            0\n",
       "Creative                               0\n",
       "Creative Type                          0\n",
       "Placement Pixel Size                   0\n",
       "Platform Type                          0\n",
       "City                                   0\n",
       "Country                                0\n",
       "Impressions                            0\n",
       "Clicks                                 0\n",
       "Click Rate                             0\n",
       "Active View: Viewable Impressions      0\n",
       "Active View: Measurable Impressions    0\n",
       "Active View: Eligible Impressions      0\n",
       "dtype: int64"
      ]
     },
     "execution_count": 11,
     "metadata": {},
     "output_type": "execute_result"
    }
   ],
   "source": [
    "performance_df.isnull().sum()"
   ]
  },
  {
   "cell_type": "markdown",
   "metadata": {},
   "source": [
    "No column has null values. Should check if columns with conflicting values use special characters for null values."
   ]
  },
  {
   "cell_type": "code",
   "execution_count": 12,
   "metadata": {},
   "outputs": [
    {
     "name": "stdout",
     "output_type": "stream",
     "text": [
      "[4476036 '4476036' '---' 5655503 '5655503']\n",
      "[8431696 9997161 10379722 20214872 20373194 10377164 20611752 11068507\n",
      " 20374651 10618989 11303978 10646846 10496824 10926150 10813463 20773700\n",
      " 20774158 11090267 20980272 20945761 20957332 21034612 21154497 21180848\n",
      " 21293746 21340413 21306694 21337517 21417947 21457332 21526238 20455841\n",
      " 21700304 21822387 21886810 10813465 22078800 22095079 22315369 22318376\n",
      " 22379012 22564637 22830728 '22379012' '22830728' '---' 10037325 10442344\n",
      " 10625571 10792203 20169181 20169727 20301889 20394976 20443074 20444647\n",
      " 20462929 20493395 20524191 20543508 20587456 20505049 20585153 20559466\n",
      " 11310432 20486984 20684132 11072191 20693106 20736958 20744166 20399078\n",
      " 20864199 20846800 20062866 21008140 21074269 20103915 21141026 21161942\n",
      " 21188831 21178708 21266827 21338376 21331658 21342377 21335524 21378729\n",
      " 21378738 20380202 21381412 10332870 21470939 21474832 21493397 21507340\n",
      " 21527558 10879454 11000485 21605692 21632477 21669037 21713437 21788061\n",
      " 21809282 21823233 10239046 21922152 21937089 10570572 22055265 22077371\n",
      " 22086028 22226420 10292141 22265501 10771165 22358677 22380493 22422125\n",
      " 22497307 22480596 22478391 22586052 22745920 22810599 22883123 22852194\n",
      " 22937950 22847178 '22497307' '22586052' '22852194']\n",
      "[1317835 2597711 2598110 2797117 2797454 1434033 1396136 1424552 1489701\n",
      " 2944627 1316323 1454416 2631917 1503097 3102893 2022256 3108182 1543478\n",
      " 1338574 4239258 2839815 3193537 1360290 2023464 3529368 4656838 2022257\n",
      " 3536454 3579312 4095267 1656983 4773013 1369981 4862412 4919877 4858000\n",
      " 1343320 2312925 1606812 2358308 '1424552' '1434033' '1454416' '1489701'\n",
      " '2631917' '2944627' '4239258' '1396136' '---' 1396770 2433542 2866133\n",
      " 2989716 2094451 2461020 4346565 1654518 1448680 3376238 2810013 2809863\n",
      " 4032763 1802791 4630579 1460025 1364377 4889641 5010272 3108054 2781867\n",
      " 1375135 1438811 '1396770' '4889641']\n",
      "['(not set)' '94656580' '94656829' ... '117953297' '117989112' '118308784']\n"
     ]
    }
   ],
   "source": [
    "print(performance_df['Advertiser ID'].unique())\n",
    "print(performance_df['Campaign ID'].unique())\n",
    "print(performance_df['Site ID (DCM)'].unique())\n",
    "print(performance_df['Creative ID'].unique())"
   ]
  },
  {
   "cell_type": "code",
   "execution_count": 13,
   "metadata": {},
   "outputs": [
    {
     "data": {
      "text/plain": [
       "True"
      ]
     },
     "execution_count": 13,
     "metadata": {},
     "output_type": "execute_result"
    }
   ],
   "source": [
    "np.all(performance_df['Creative ID'].apply(type) == str)"
   ]
  },
  {
   "cell_type": "markdown",
   "metadata": {},
   "source": [
    "Creative ID is only strings, but there are values '(not set)', which means that not all creatives have an assigned ID. Elements in Advertiser ID, Campaign ID and Site ID should be transformed to strings. Also, there is a row that has the '---' value. Should explore that."
   ]
  },
  {
   "cell_type": "code",
   "execution_count": 14,
   "metadata": {},
   "outputs": [],
   "source": [
    "performance_df['Advertiser ID']=performance_df['Advertiser ID'].astype(str)\n",
    "performance_df['Campaign ID']=performance_df['Campaign ID'].astype(str)\n",
    "performance_df['Site ID (DCM)']=performance_df['Site ID (DCM)'].astype(str)"
   ]
  },
  {
   "cell_type": "code",
   "execution_count": 15,
   "metadata": {
    "scrolled": false
   },
   "outputs": [
    {
     "data": {
      "text/html": [
       "<div>\n",
       "<style scoped>\n",
       "    .dataframe tbody tr th:only-of-type {\n",
       "        vertical-align: middle;\n",
       "    }\n",
       "\n",
       "    .dataframe tbody tr th {\n",
       "        vertical-align: top;\n",
       "    }\n",
       "\n",
       "    .dataframe thead th {\n",
       "        text-align: right;\n",
       "    }\n",
       "</style>\n",
       "<table border=\"1\" class=\"dataframe\">\n",
       "  <thead>\n",
       "    <tr style=\"text-align: right;\">\n",
       "      <th></th>\n",
       "      <th>Date</th>\n",
       "      <th>Advertiser ID</th>\n",
       "      <th>Advertiser</th>\n",
       "      <th>Campaign ID</th>\n",
       "      <th>Campaign</th>\n",
       "      <th>Site ID (DCM)</th>\n",
       "      <th>Site (DCM)</th>\n",
       "      <th>Creative ID</th>\n",
       "      <th>Creative</th>\n",
       "      <th>Creative Type</th>\n",
       "      <th>Placement Pixel Size</th>\n",
       "      <th>Platform Type</th>\n",
       "      <th>City</th>\n",
       "      <th>Country</th>\n",
       "      <th>Impressions</th>\n",
       "      <th>Clicks</th>\n",
       "      <th>Click Rate</th>\n",
       "      <th>Active View: Viewable Impressions</th>\n",
       "      <th>Active View: Measurable Impressions</th>\n",
       "      <th>Active View: Eligible Impressions</th>\n",
       "    </tr>\n",
       "  </thead>\n",
       "  <tbody>\n",
       "    <tr>\n",
       "      <th>6624569</th>\n",
       "      <td>Grand Total:</td>\n",
       "      <td>---</td>\n",
       "      <td>---</td>\n",
       "      <td>---</td>\n",
       "      <td>---</td>\n",
       "      <td>---</td>\n",
       "      <td>---</td>\n",
       "      <td>---</td>\n",
       "      <td>---</td>\n",
       "      <td>---</td>\n",
       "      <td>---</td>\n",
       "      <td>---</td>\n",
       "      <td>---</td>\n",
       "      <td>---</td>\n",
       "      <td>73493947</td>\n",
       "      <td>6777990</td>\n",
       "      <td>9.22</td>\n",
       "      <td>36580764</td>\n",
       "      <td>54629509</td>\n",
       "      <td>58945637</td>\n",
       "    </tr>\n",
       "    <tr>\n",
       "      <th>19245620</th>\n",
       "      <td>Grand Total:</td>\n",
       "      <td>---</td>\n",
       "      <td>---</td>\n",
       "      <td>---</td>\n",
       "      <td>---</td>\n",
       "      <td>---</td>\n",
       "      <td>---</td>\n",
       "      <td>---</td>\n",
       "      <td>---</td>\n",
       "      <td>---</td>\n",
       "      <td>---</td>\n",
       "      <td>---</td>\n",
       "      <td>---</td>\n",
       "      <td>---</td>\n",
       "      <td>176042204</td>\n",
       "      <td>1049077</td>\n",
       "      <td>0.60</td>\n",
       "      <td>66672840</td>\n",
       "      <td>125947728</td>\n",
       "      <td>135882025</td>\n",
       "    </tr>\n",
       "  </tbody>\n",
       "</table>\n",
       "</div>"
      ],
      "text/plain": [
       "                  Date Advertiser ID Advertiser Campaign ID Campaign  \\\n",
       "6624569   Grand Total:           ---        ---         ---      ---   \n",
       "19245620  Grand Total:           ---        ---         ---      ---   \n",
       "\n",
       "         Site ID (DCM) Site (DCM) Creative ID Creative Creative Type  \\\n",
       "6624569            ---        ---         ---      ---           ---   \n",
       "19245620           ---        ---         ---      ---           ---   \n",
       "\n",
       "         Placement Pixel Size Platform Type City Country  Impressions  \\\n",
       "6624569                   ---           ---  ---     ---     73493947   \n",
       "19245620                  ---           ---  ---     ---    176042204   \n",
       "\n",
       "           Clicks  Click Rate  Active View: Viewable Impressions  \\\n",
       "6624569   6777990        9.22                           36580764   \n",
       "19245620  1049077        0.60                           66672840   \n",
       "\n",
       "          Active View: Measurable Impressions  \\\n",
       "6624569                              54629509   \n",
       "19245620                            125947728   \n",
       "\n",
       "          Active View: Eligible Impressions  \n",
       "6624569                            58945637  \n",
       "19245620                          135882025  "
      ]
     },
     "execution_count": 15,
     "metadata": {},
     "output_type": "execute_result"
    }
   ],
   "source": [
    "dashes=performance_df[performance_df['Campaign ID']=='---']\n",
    "dashes"
   ]
  },
  {
   "cell_type": "markdown",
   "metadata": {},
   "source": [
    "The last row is the sum per numerical column. We remove it because is not an independent measurement"
   ]
  },
  {
   "cell_type": "code",
   "execution_count": 16,
   "metadata": {},
   "outputs": [],
   "source": [
    "performance_df=performance_df.drop(dashes.index,axis=0)"
   ]
  },
  {
   "cell_type": "code",
   "execution_count": 17,
   "metadata": {},
   "outputs": [
    {
     "data": {
      "text/html": [
       "<div>\n",
       "<style scoped>\n",
       "    .dataframe tbody tr th:only-of-type {\n",
       "        vertical-align: middle;\n",
       "    }\n",
       "\n",
       "    .dataframe tbody tr th {\n",
       "        vertical-align: top;\n",
       "    }\n",
       "\n",
       "    .dataframe thead th {\n",
       "        text-align: right;\n",
       "    }\n",
       "</style>\n",
       "<table border=\"1\" class=\"dataframe\">\n",
       "  <thead>\n",
       "    <tr style=\"text-align: right;\">\n",
       "      <th></th>\n",
       "      <th>Date</th>\n",
       "      <th>Advertiser ID</th>\n",
       "      <th>Advertiser</th>\n",
       "      <th>Campaign ID</th>\n",
       "      <th>Campaign</th>\n",
       "      <th>Site ID (DCM)</th>\n",
       "      <th>Site (DCM)</th>\n",
       "      <th>Creative ID</th>\n",
       "      <th>Creative</th>\n",
       "      <th>Creative Type</th>\n",
       "      <th>Placement Pixel Size</th>\n",
       "      <th>Platform Type</th>\n",
       "      <th>City</th>\n",
       "      <th>Country</th>\n",
       "      <th>Impressions</th>\n",
       "      <th>Clicks</th>\n",
       "      <th>Click Rate</th>\n",
       "      <th>Active View: Viewable Impressions</th>\n",
       "      <th>Active View: Measurable Impressions</th>\n",
       "      <th>Active View: Eligible Impressions</th>\n",
       "    </tr>\n",
       "  </thead>\n",
       "  <tbody>\n",
       "  </tbody>\n",
       "</table>\n",
       "</div>"
      ],
      "text/plain": [
       "Empty DataFrame\n",
       "Columns: [Date, Advertiser ID, Advertiser, Campaign ID, Campaign, Site ID (DCM), Site (DCM), Creative ID, Creative, Creative Type, Placement Pixel Size, Platform Type, City, Country, Impressions, Clicks, Click Rate, Active View: Viewable Impressions, Active View: Measurable Impressions, Active View: Eligible Impressions]\n",
       "Index: []"
      ]
     },
     "execution_count": 17,
     "metadata": {},
     "output_type": "execute_result"
    }
   ],
   "source": [
    "performance_df[performance_df['Campaign ID']=='---']"
   ]
  },
  {
   "cell_type": "code",
   "execution_count": 18,
   "metadata": {},
   "outputs": [
    {
     "name": "stdout",
     "output_type": "stream",
     "text": [
      "Teesside University                        12621050\n",
      "University of the West of England (UWE)     6624569\n",
      "Name: Advertiser, dtype: int64\n",
      "\n",
      "UG 2019 Student Intake (036350)                          2869170\n",
      "UG Feb 18 - Jul 18 (034954)                              1638184\n",
      "UG Sept - Jan (037595)                                    969379\n",
      "UG Feb to July 2019 (038634)                              951826\n",
      "PG Oct - Jan (034954)                                     933812\n",
      "Degree Apprenticeships  (034962)                          815179\n",
      "PG Feb - July (038819)                                    780916\n",
      "Clearing 2018 (034954)                                    749222\n",
      "TUBS Campaign (036286)                                    736666\n",
      "School Of Health 2018/19 (038410)                         619053\n",
      "PG 2019 (038397)                                          602934\n",
      "UG 2020 (038484)                                          586295\n",
      "Natural Search                                            535338\n",
      "General International (036726)                            524053\n",
      "School Of Health (035148 / 036263 [REM Nov-Jul 2018])     478216\n",
      "HDA 2019 (038673)                                         458885\n",
      "Profile Raising & Open Event (035126)                     392733\n",
      "PG Feb - July  (034954)                                   312957\n",
      "PG August - September (034954)                            297421\n",
      "PG Feb - July Top Up (039177)                             290230\n",
      "UCAS Extra 2019 (038840)                                  283083\n",
      "PG Nov - Jan (036156)                                     271204\n",
      "TUBS Clearing  (034951)                                   262133\n",
      "Clearing 2018 (036580)                                    256901\n",
      "UG - Faculties - 2018 (038231)                            256130\n",
      "TUBS 2018/19 (034951)                                     230890\n",
      "Profile Raising & Open Events 2017/18 (035742)            220469\n",
      "UG 18 campaign (035761)                                   217773\n",
      "School of Science and Engineering (038635)                164265\n",
      "SSE - PAD 18 (034958)                                     148406\n",
      "                                                          ...   \n",
      "MEng Civil and Environmental Engineering (035126)             10\n",
      "UG Sept - Jan Planning (035761)                                7\n",
      "UG 2017 Additional School Campaign (034444)                    7\n",
      "SSSHL PG Additional (034961)                                   7\n",
      "DCA (034124)                                                   7\n",
      "Tee School of Engineering - Event Promotion (033036)           7\n",
      "UWE UG2017 FET Campaign (032949)                               4\n",
      "MA Creative Writing (034961)                                   4\n",
      "Teesside University  - CPD Campaign (036095)                   4\n",
      "UG Early Awareness (039262)                                    3\n",
      "MA Virtual Reality (038342)                                    3\n",
      "HDA Phase 2 (034216)                                           3\n",
      "Easrly Awareness Campaign (034782)                             3\n",
      "Teesside International - India Tour (033466)                   3\n",
      "UWE International - Nigeria (033422)                           3\n",
      "UG to PG (033860)                                              2\n",
      "UCAS July PAD (039687)                                         2\n",
      "TUBS Course Promotion (033718)                                 1\n",
      "Creative Degree Show 2017 (034328)                             1\n",
      "UWE UG2017 - UCAS Extra (033879)                               1\n",
      "UWE PG2017 MSc Urban and Rural Planning (033135)               1\n",
      "Undergraduate: Feb-July (033639)                               1\n",
      "UWE UG2017 HAS Campaign (032996)                               1\n",
      "Teesside Health & Social Care Campaign (47016)                 1\n",
      "Teesside Gazette - 2020 Vision Renewal  (034009)               1\n",
      "SSSHL UG Additional  (034961)                                  1\n",
      "HDA Campaign (038091)                                          1\n",
      "UWE International 2017  (033347)                               1\n",
      "Teesside Health & So​cial Care Campaign (032079)               1\n",
      "UWE International - Thailand (033421)                          1\n",
      "Name: Campaign, Length: 126, dtype: int64\n",
      "\n",
      "SMRS                                6646151\n",
      "Google Display Network              2378195\n",
      "Programmatic                        1867073\n",
      "Prospects                           1647650\n",
      "UCAS                                1584257\n",
      "Facebook                            1163074\n",
      "The Student Room                     936503\n",
      "What Uni                             516841\n",
      "Natural Search : Google : 18208      455459\n",
      "Hotcourses                           421553\n",
      "Remarketing                          250536\n",
      "YouTube UK                           219746\n",
      "The Complete University Guide        190000\n",
      "instagram.com                        186430\n",
      "Instagram                            133663\n",
      "DART Search : Google : 18208         102235\n",
      "GDN                                   82906\n",
      "All 4                                 72178\n",
      "THE Online                            63701\n",
      "Natural Search : MSN : 18208          55486\n",
      "Spotify                               46427\n",
      "fonemedia.co.uk                       39264\n",
      "Postgraduate Search                   38391\n",
      "Study Portals                         27348\n",
      "thecompleteuniversityguide.co.uk      20540\n",
      "Natural Search : Yahoo! : 18208       19488\n",
      "Snapchat                              18304\n",
      "Student Crowd                         11520\n",
      "DAX                                   10394\n",
      "Creative Review                        6958\n",
      "                                     ...   \n",
      "crackmagazine.net                      4661\n",
      "South West Business UK                 4185\n",
      "Master Studies                         1889\n",
      "LinkedIn                               1751\n",
      "The Guardian                           1304\n",
      "The Engineer                            851\n",
      "Open Days                               616\n",
      "gazettelive.co.uk                       603\n",
      "Bristol 24/7                            328\n",
      "socialinfluencers.net                   210\n",
      "Business Matters                        196\n",
      "GSP (Gmail Sponsored Promotions)        176\n",
      "bamuk.com                               130\n",
      "THES 2                                  115\n",
      "ingenium-ids.org                        113\n",
      "a-n                                      87\n",
      "Educations.com                           59\n",
      "Uni Taster Days                          46\n",
      "Reed                                     46\n",
      "The Bristol Mag                          41\n",
      "What's On Bristol                        30\n",
      "startups.co.uk 1                         28\n",
      "Adtima                                   13\n",
      "Business Post                             9\n",
      "GDN remarketing                           7\n",
      "Bdaily                                    2\n",
      "Linked_In                                 1\n",
      "Postgrad.com                              1\n",
      "Education UK                              1\n",
      "Tees Business                             1\n",
      "Name: Site (DCM), Length: 63, dtype: int64\n",
      "\n",
      "Tracking                                                      832634\n",
      "(not set)                                                     702185\n",
      "Tracking Ad                                                   394123\n",
      "Prospects_V3_300-x-250                                        320417\n",
      "Tracking  Ad                                                  284521\n",
      "Tracking 1x1                                                  269751\n",
      "060418-UWE-PG-MPU-banner-GO-300x250-v2                        220386\n",
      "FO-300x250                                                    215896\n",
      "Tracking - 1x1                                                209815\n",
      "General International - 300-x-250                             199994\n",
      "141118-UG-Digital-Banners-Post-November-Open-Day-300x250-B    195814\n",
      "V2_300-x-250                                                  193729\n",
      "V4_300-x-250                                                  193472\n",
      "V1_300-x-250                                                  193471\n",
      "BB-300x250                                                    188576\n",
      "V3_300-x-250                                                  173385\n",
      "300x250_open day1                                             128614\n",
      "Tracking_1x1                                                  125345\n",
      "Open-Day 300x250                                              124626\n",
      "080219-UCAS-Extra-Digital-Banners-Prospecting-v2-300x250      116416\n",
      "Next-Chapter 300x250                                          115691\n",
      "141118-UG-Digital-Banners-Post-November-Open-Day-300x250-A    114983\n",
      "UCAS_See_GroupAB_300x250                                      112902\n",
      "TU-DIGAD-347-300x250-Katie                                    103268\n",
      "Open-Day 728x90                                               101327\n",
      "General International - 728-x-90                               98154\n",
      "Next-Chapter 728x90                                            94662\n",
      "OD-300x250                                                     85846\n",
      "FO-320x50                                                      85550\n",
      "TU-DIGAD-347-300x250-ROB                                       85430\n",
      "                                                               ...  \n",
      "OD-300x250 new                                                     1\n",
      "TU-DIGAD-358-300x250                                               1\n",
      "WhatUni 728x90_Design                                              1\n",
      "10349-VERSION-2-TUBS-640x640                                       1\n",
      "REMAREKTING A 468 x 60                                             1\n",
      "340618-Executive-Education-GIFs-336x280-25-June-PURPLE             1\n",
      "TU-DIGAD-357-300x600-english_CUG_New                               1\n",
      "180418b-UG-Digital-Banner-Influencers-v2_300x250px                 1\n",
      "TSR-2-320x50                                                       1\n",
      "WhatUni 160x600_Design                                             1\n",
      "remarketing-2-180x150                                              1\n",
      "remarketing-2-160x600                                              1\n",
      "160x600                                                            1\n",
      "Clicks to Website - Twitter                                        1\n",
      "Prospects_300x250_dieteticsREM                                     1\n",
      "programmatic-2-468x60                                              1\n",
      "programmatic-2-180x150                                             1\n",
      "TU Resized-300x50                                                  1\n",
      "11559e_UG_Decisions_PostOpenDay_Banners_4_I_11/20                  1\n",
      "WhatUni 160x600_Engineering                                        1\n",
      "remarketing-2-120x600                                              1\n",
      "180418b-UG-Digital-Banner-Influencers-v2_728x90px                  1\n",
      "140618-UG-Digital-Banners-Post-June-Open-Day_320x50px              1\n",
      "TSR-2-728x90                                                       1\n",
      "REMARKETING B READY 468-x-60                                       1\n",
      "TU-DIGAD-324-UG-subject-728x90-computer1                           1\n",
      "TU-DIGAD-324-UG-subject-320x50-computer1                           1\n",
      "10546-HDA-600x90                                                   1\n",
      "300x250                                                            1\n",
      "TSR-2-300x600                                                      1\n",
      "Name: Creative, Length: 1559, dtype: int64\n",
      "\n",
      "Display      16334905\n",
      "Tracking      2208529\n",
      "(not set)      702185\n",
      "Name: Creative Type, dtype: int64\n",
      "\n",
      "Desktop                           8907676\n",
      "Mobile highend: smartphone        6796177\n",
      "Tablet                            3135568\n",
      "Mobile midrange: feature phone     249411\n",
      "Connected TV                       156787\n",
      "Name: Platform Type, dtype: int64\n",
      "\n",
      "300 x 250    6740944\n",
      "1 x 1        2970219\n",
      "728 x 90     2595863\n",
      "160 x 600    1908464\n",
      "300 x 600    1501446\n",
      "320 x 50     1255364\n",
      "468 x 60      504532\n",
      "120 x 600     475636\n",
      "970 x 250     302035\n",
      "336 x 280     233290\n",
      "970 x 90      199927\n",
      "300 x 50      127513\n",
      "180 x 150     124078\n",
      "320 x 100     100656\n",
      "250 x 250      93159\n",
      "250 x 100      52402\n",
      "200 x 200      51054\n",
      "650 x 100       4565\n",
      "0 x 0           3616\n",
      "640 x 640        756\n",
      "320 x 250         21\n",
      "300 x 251         17\n",
      "338 x 280         15\n",
      "300 x 254          9\n",
      "300 x 258          6\n",
      "300 x 253          5\n",
      "120 x 90           3\n",
      "300 x 252          3\n",
      "580 x 400          3\n",
      "100 x 100          3\n",
      "300 x 380          2\n",
      "160 x 601          2\n",
      "245 x 210          2\n",
      "992 x 115          2\n",
      "300 x 100          2\n",
      "600 x 250          2\n",
      "990 x 100          1\n",
      "970 x 150          1\n",
      "600 x 90           1\n",
      "Name: Placement Pixel Size, dtype: int64\n"
     ]
    }
   ],
   "source": [
    "print(performance_df['Advertiser'].value_counts(),\n",
    "      performance_df['Campaign'].value_counts(),\n",
    "      performance_df['Site (DCM)'].value_counts(),\n",
    "      performance_df['Creative'].value_counts(),\n",
    "      performance_df['Creative Type'].value_counts(),\n",
    "      performance_df['Platform Type'].value_counts(),\n",
    "      performance_df['Placement Pixel Size'].value_counts(),\n",
    "      sep='\\n\\n')\n"
   ]
  },
  {
   "cell_type": "markdown",
   "metadata": {},
   "source": [
    "## Check for weird values on numerical columns"
   ]
  },
  {
   "cell_type": "code",
   "execution_count": 19,
   "metadata": {},
   "outputs": [
    {
     "data": {
      "text/plain": [
       "False"
      ]
     },
     "execution_count": 19,
     "metadata": {},
     "output_type": "execute_result"
    }
   ],
   "source": [
    "np.all(performance_df['Impressions']>=0)"
   ]
  },
  {
   "cell_type": "code",
   "execution_count": 20,
   "metadata": {},
   "outputs": [
    {
     "data": {
      "text/plain": [
       "2"
      ]
     },
     "execution_count": 20,
     "metadata": {},
     "output_type": "execute_result"
    }
   ],
   "source": [
    "np.sum(performance_df['Impressions']<0)"
   ]
  },
  {
   "cell_type": "markdown",
   "metadata": {},
   "source": [
    "2 negative values in Impressions"
   ]
  },
  {
   "cell_type": "code",
   "execution_count": 21,
   "metadata": {},
   "outputs": [
    {
     "data": {
      "text/plain": [
       "False"
      ]
     },
     "execution_count": 21,
     "metadata": {},
     "output_type": "execute_result"
    }
   ],
   "source": [
    "np.all(performance_df['Clicks']>=0)"
   ]
  },
  {
   "cell_type": "code",
   "execution_count": 22,
   "metadata": {},
   "outputs": [
    {
     "data": {
      "text/plain": [
       "83"
      ]
     },
     "execution_count": 22,
     "metadata": {},
     "output_type": "execute_result"
    }
   ],
   "source": [
    "np.sum(performance_df['Clicks']<0)"
   ]
  },
  {
   "cell_type": "markdown",
   "metadata": {},
   "source": [
    "83 negative values for Clicks"
   ]
  },
  {
   "cell_type": "code",
   "execution_count": 23,
   "metadata": {},
   "outputs": [
    {
     "data": {
      "text/plain": [
       "False"
      ]
     },
     "execution_count": 23,
     "metadata": {},
     "output_type": "execute_result"
    }
   ],
   "source": [
    "np.all(performance_df['Click Rate']>=0)"
   ]
  },
  {
   "cell_type": "code",
   "execution_count": 24,
   "metadata": {},
   "outputs": [
    {
     "data": {
      "text/plain": [
       "2"
      ]
     },
     "execution_count": 24,
     "metadata": {},
     "output_type": "execute_result"
    }
   ],
   "source": [
    "np.sum(performance_df['Click Rate']<0)"
   ]
  },
  {
   "cell_type": "markdown",
   "metadata": {},
   "source": [
    "2 negative values for Click Rate"
   ]
  },
  {
   "cell_type": "code",
   "execution_count": 25,
   "metadata": {},
   "outputs": [
    {
     "data": {
      "text/plain": [
       "True"
      ]
     },
     "execution_count": 25,
     "metadata": {},
     "output_type": "execute_result"
    }
   ],
   "source": [
    "np.all(performance_df['Active View: Viewable Impressions']>=0)"
   ]
  },
  {
   "cell_type": "code",
   "execution_count": 26,
   "metadata": {},
   "outputs": [
    {
     "data": {
      "text/plain": [
       "False"
      ]
     },
     "execution_count": 26,
     "metadata": {},
     "output_type": "execute_result"
    }
   ],
   "source": [
    "np.all(performance_df['Active View: Measurable Impressions']>=0)"
   ]
  },
  {
   "cell_type": "code",
   "execution_count": 27,
   "metadata": {},
   "outputs": [
    {
     "data": {
      "text/plain": [
       "614"
      ]
     },
     "execution_count": 27,
     "metadata": {},
     "output_type": "execute_result"
    }
   ],
   "source": [
    "np.sum(performance_df['Active View: Measurable Impressions']<0)"
   ]
  },
  {
   "cell_type": "markdown",
   "metadata": {},
   "source": [
    "614 negative values for Active View: Measurable Impressions"
   ]
  },
  {
   "cell_type": "code",
   "execution_count": 28,
   "metadata": {},
   "outputs": [
    {
     "data": {
      "text/plain": [
       "True"
      ]
     },
     "execution_count": 28,
     "metadata": {},
     "output_type": "execute_result"
    }
   ],
   "source": [
    "np.all(performance_df['Active View: Eligible Impressions']>=0)"
   ]
  },
  {
   "cell_type": "markdown",
   "metadata": {},
   "source": [
    "So Impressions, Clicks Click Rate and Active View: Measurable Impressions all need further work as there are negative values"
   ]
  },
  {
   "cell_type": "markdown",
   "metadata": {},
   "source": [
    "## Fix the negative values"
   ]
  },
  {
   "cell_type": "markdown",
   "metadata": {},
   "source": [
    "John Burke from SMRS says that these values in Impressions, Clicks, Click Rate and Active View: Measurable Impressions should all be postives (he's checked the original database files) so we can use abs to fix these. For Click Rate we can just leave them as is as they get re-calculated later. "
   ]
  },
  {
   "cell_type": "code",
   "execution_count": 29,
   "metadata": {},
   "outputs": [],
   "source": [
    "performance_df['Impressions'] = performance_df['Impressions'].abs()\n",
    "performance_df['Clicks'] = performance_df['Clicks'].abs()\n",
    "performance_df['Active View: Measurable Impressions'] = performance_df['Active View: Measurable Impressions'].abs()"
   ]
  },
  {
   "cell_type": "markdown",
   "metadata": {},
   "source": [
    "Sanity check: the following tests should all return True"
   ]
  },
  {
   "cell_type": "code",
   "execution_count": 35,
   "metadata": {},
   "outputs": [
    {
     "name": "stdout",
     "output_type": "stream",
     "text": [
      "Impressions positive =  True :: Clicks positive =  True :: Active View Measurable Impressions positive =  True\n"
     ]
    }
   ],
   "source": [
    "print(\"Impressions positive = \",np.all(performance_df['Impressions']>=0),\n",
    "      \":: Clicks positive = \",np.all(performance_df['Clicks']>=0),\n",
    "      \":: Active View Measurable Impressions positive = \",\n",
    "      np.all(performance_df['Active View: Measurable Impressions']>=0))"
   ]
  },
  {
   "cell_type": "markdown",
   "metadata": {},
   "source": [
    "## Check for inconsistencies between ID's and names"
   ]
  },
  {
   "cell_type": "markdown",
   "metadata": {},
   "source": [
    "Check that Advertiser ID and Advertiser are consistent, they are, all good"
   ]
  },
  {
   "cell_type": "code",
   "execution_count": 69,
   "metadata": {},
   "outputs": [
    {
     "data": {
      "text/plain": [
       "Advertiser ID\n",
       "4476036    [University of the West of England (UWE)]\n",
       "5655503                        [Teesside University]\n",
       "Name: Advertiser, dtype: object"
      ]
     },
     "execution_count": 69,
     "metadata": {},
     "output_type": "execute_result"
    }
   ],
   "source": [
    "performance_df.groupby(['Advertiser ID'])['Advertiser'].unique()"
   ]
  },
  {
   "cell_type": "markdown",
   "metadata": {},
   "source": [
    "Now check is Campaign ID and Campaign are consistent, they aren't"
   ]
  },
  {
   "cell_type": "code",
   "execution_count": 70,
   "metadata": {},
   "outputs": [
    {
     "data": {
      "text/plain": [
       "False"
      ]
     },
     "execution_count": 70,
     "metadata": {},
     "output_type": "execute_result"
    }
   ],
   "source": [
    "np.all(performance_df.groupby(['Campaign ID'])['Campaign'].nunique()>1)"
   ]
  },
  {
   "cell_type": "code",
   "execution_count": 71,
   "metadata": {},
   "outputs": [
    {
     "data": {
      "text/plain": [
       "False"
      ]
     },
     "execution_count": 71,
     "metadata": {},
     "output_type": "execute_result"
    }
   ],
   "source": [
    "np.all(performance_df.groupby(['Campaign'])['Campaign ID'].nunique()>1)"
   ]
  },
  {
   "cell_type": "code",
   "execution_count": 72,
   "metadata": {},
   "outputs": [
    {
     "data": {
      "text/plain": [
       "Campaign\n",
       "DART Search    [8431696, 10037325]\n",
       "Name: Campaign ID, dtype: object"
      ]
     },
     "execution_count": 72,
     "metadata": {},
     "output_type": "execute_result"
    }
   ],
   "source": [
    "not_unique = performance_df.groupby(['Campaign'])['Campaign ID'].nunique()>1\n",
    "not_unique_id = performance_df.groupby(['Campaign'])['Campaign ID'].unique()[not_unique]\n",
    "not_unique_id"
   ]
  },
  {
   "cell_type": "markdown",
   "metadata": {},
   "source": [
    "From this, it looks like we have sets of overlapping IDs one for each University"
   ]
  },
  {
   "cell_type": "code",
   "execution_count": 73,
   "metadata": {},
   "outputs": [
    {
     "data": {
      "text/plain": [
       "array(['University of the West of England (UWE)'], dtype=object)"
      ]
     },
     "execution_count": 73,
     "metadata": {},
     "output_type": "execute_result"
    }
   ],
   "source": [
    "performance_df[performance_df['Campaign ID']=='8431696']['Advertiser'].unique()"
   ]
  },
  {
   "cell_type": "code",
   "execution_count": 74,
   "metadata": {},
   "outputs": [
    {
     "data": {
      "text/plain": [
       "array(['Teesside University'], dtype=object)"
      ]
     },
     "execution_count": 74,
     "metadata": {},
     "output_type": "execute_result"
    }
   ],
   "source": [
    "performance_df[performance_df['Campaign ID']=='10037325']['Advertiser'].unique()"
   ]
  },
  {
   "cell_type": "code",
   "execution_count": 75,
   "metadata": {},
   "outputs": [
    {
     "data": {
      "text/plain": [
       "Series([], Name: Campaign, dtype: object)"
      ]
     },
     "execution_count": 75,
     "metadata": {},
     "output_type": "execute_result"
    }
   ],
   "source": [
    "not_unique = performance_df.groupby(['Campaign ID'])['Campaign'].nunique()>1\n",
    "not_unique_id = performance_df.groupby(['Campaign ID'])['Campaign'].unique()[not_unique]\n",
    "not_unique_id"
   ]
  },
  {
   "cell_type": "markdown",
   "metadata": {},
   "source": [
    "We always have one value for each Campaign within Campaign ID"
   ]
  },
  {
   "cell_type": "markdown",
   "metadata": {},
   "source": [
    "Now check Site ID (DCM) and Site (DCM)"
   ]
  },
  {
   "cell_type": "code",
   "execution_count": 76,
   "metadata": {},
   "outputs": [
    {
     "data": {
      "text/plain": [
       "Series([], Name: Site (DCM), dtype: object)"
      ]
     },
     "execution_count": 76,
     "metadata": {},
     "output_type": "execute_result"
    }
   ],
   "source": [
    "not_unique = performance_df.groupby(['Site ID (DCM)'])['Site (DCM)'].nunique()>1\n",
    "not_unique_id = performance_df.groupby(['Site ID (DCM)'])['Site (DCM)'].unique()[not_unique]\n",
    "not_unique_id"
   ]
  },
  {
   "cell_type": "code",
   "execution_count": 77,
   "metadata": {},
   "outputs": [
    {
     "data": {
      "text/plain": [
       "Series([], Name: Site ID (DCM), dtype: object)"
      ]
     },
     "execution_count": 77,
     "metadata": {},
     "output_type": "execute_result"
    }
   ],
   "source": [
    "not_unique = performance_df.groupby(['Site (DCM)'])['Site ID (DCM)'].nunique()>1\n",
    "not_unique_id = performance_df.groupby(['Site (DCM)'])['Site ID (DCM)'].unique()[not_unique]\n",
    "not_unique_id"
   ]
  },
  {
   "cell_type": "markdown",
   "metadata": {},
   "source": [
    "Now look at Creative ID and Creative"
   ]
  },
  {
   "cell_type": "code",
   "execution_count": 78,
   "metadata": {},
   "outputs": [
    {
     "data": {
      "text/plain": [
       "Series([], Name: Creative, dtype: object)"
      ]
     },
     "execution_count": 78,
     "metadata": {},
     "output_type": "execute_result"
    }
   ],
   "source": [
    "not_unique = performance_df.groupby(['Creative ID'])['Creative'].nunique()>1\n",
    "not_unique_id = performance_df.groupby(['Creative ID'])['Creative'].unique()[not_unique]\n",
    "not_unique_id"
   ]
  },
  {
   "cell_type": "code",
   "execution_count": 79,
   "metadata": {},
   "outputs": [
    {
     "data": {
      "text/plain": [
       "Creative\n",
       "010618a-Clearing-2018-BME-Burst-2-300x600px                                                  [104676165, 104692270]\n",
       "010618a-Clearing-2018-Burst-2-Programmatic-Mobile-300x250                                    [104532740, 104692942]\n",
       "010618a-Clearing-2018-Burst-2-Programmatic-Mobile-320x50                                     [104692009, 104532953]\n",
       "010618a-Clearing-2018-Burst-2-Programmatic-Mobile-728x90                                     [104668083, 104531009]\n",
       "080219-UCAS-Extra-Digital-Banners-Prospecting-v2-320x50                                      [112424195, 116439510]\n",
       "120x600_open day1                                                                            [111493359, 113386409]\n",
       "141118-UG-Digital-Banners-Post-November-Open-Day-300x250-A                                   [108882080, 109676858]\n",
       "141118-UG-Digital-Banners-Post-November-Open-Day-300x250-B                                   [108884165, 109624969]\n",
       "141118-UG-Digital-Banners-Post-November-Open-Day-TSR-300x250-A                               [108820042, 110150810]\n",
       "141118-UG-Digital-Banners-Post-November-Open-Day-TSR-300x250-B                               [108820045, 110088124]\n",
       "141118-UG-Digital-Banners-Post-November-Open-Day-TSR-300x600-A                               [108825667, 110088643]\n",
       "141118-UG-Digital-Banners-Post-November-Open-Day-TSR-300x600-B                               [108824095, 110088127]\n",
       "141118-UG-Digital-Banners-Post-November-Open-Day-TSR-320x50-A                                [108824098, 110088898]\n",
       "141118-UG-Digital-Banners-Post-November-Open-Day-TSR-320x50-B                                [108825898, 110149886]\n",
       "141118-UG-Digital-Banners-Post-November-Open-Day-TSR-728x90-A                                [108820048, 110150813]\n",
       "141118-UG-Digital-Banners-Post-November-Open-Day-TSR-728x90-B                                [108819766, 110150816]\n",
       "160x600_lifesciences                                                                         [111493413, 113304817]\n",
       "160x600_openday1                                                                  [111581903, 112420695, 113365907]\n",
       "160x600_psychology                                                                           [111487492, 113301058]\n",
       "160x600_sport                                                                                [111582746, 113365241]\n",
       "180x150_openday1                                                                             [111581018, 113339511]\n",
       "1x1 Tracking Pixel                                                [101502450, 102799866, 73396738, 94797650, 110...\n",
       "220818-UG_Burst-2_Programmatic_UCAS_160x600                                       [105665245, 105723584, 106398724]\n",
       "220818-UG_Burst-2_Programmatic_UCAS_300x250                                                  [105665248, 105688410]\n",
       "220818-UG_Burst-2_Programmatic_What_uni1_200x200                                             [105680243, 105723257]\n",
       "220818-UG_Burst-2_Programmatic_What_uni1_250x250                                             [105635037, 105688098]\n",
       "220818-UG_Burst-2_Programmatic_What_uni1_300x50                                   [105680003, 105723343, 105921021]\n",
       "220818-UG_Burst-2_Programmatic_What_uni1_320x50                                   [105680006, 105723602, 105970112]\n",
       "220818-UG_Burst-2_Programmatic_What_uni1_468x60                                   [105665254, 105688176, 105970646]\n",
       "220818-UG_Burst-2_Programmatic_What_uni1_728x90                                              [105665257, 105689280]\n",
       "                                                                                        ...                        \n",
       "V4_970-x-250                                                                                 [114051683, 113935582]\n",
       "V4_970-x-90                                                                                  [114007317, 114011474]\n",
       "VERSION A 160 x 600                                                                          [102568924, 102803855]\n",
       "VERSION A 300 x 250                                                               [102575008, 102803858, 103162469]\n",
       "VERSION A 300 x 600                                                                          [102801563, 103034703]\n",
       "VERSION A 320 x 50                                                                [102571228, 103034055, 102804158]\n",
       "VERSION A 970 x 90                                                                           [103162472, 102803849]\n",
       "VERSION-B PART OF IT 300-x-250                                                    [102571231, 103034049, 102804143]\n",
       "VERSION-B PART OF IT 300-x-600                                                               [102804128, 103164992]\n",
       "VERSION-B PART OF IT 320-x-50                                                     [102554181, 103034694, 102661120]\n",
       "VERSION-B PART OF IT 970-x-90                                                                [103022584, 102804140]\n",
       "education A 300x600                                                               [105055723, 105111467, 107433617]\n",
       "education B 300x600                                                               [105111491, 105109262, 107436695]\n",
       "education B 320x50                                                                [105112376, 105022764, 107379210]\n",
       "education B 728x90                                                                           [105055708, 107436212]\n",
       "education B 970x250                                                                          [105113771, 107399692]\n",
       "programmatic A 120x600                                                                       [105134775, 111323011]\n",
       "programmatic A 160x600                                                                       [105229058, 111305529]\n",
       "programmatic A 180x150                                                                       [105136110, 111323014]\n",
       "programmatic A 300x250                                                                       [105134877, 111409076]\n",
       "programmatic A 300x600                                                                       [105136116, 111409043]\n",
       "programmatic A 468x60                                                                        [105136119, 111402311]\n",
       "programmatic A 728x90                                                                        [105134781, 111323017]\n",
       "programmatic B 120x600                                                                       [105137094, 111399674]\n",
       "programmatic B 160x600                                                                       [105137097, 111402314]\n",
       "programmatic B 180x150                                                                       [105136143, 111409049]\n",
       "programmatic B 300x250                                                                       [105137220, 111311229]\n",
       "programmatic B 300x600                                                                       [105137106, 111311391]\n",
       "programmatic B 468x60                                                                        [105229076, 111409052]\n",
       "programmatic B 728x90                                                                        [105134793, 111409055]\n",
       "Name: Creative ID, Length: 181, dtype: object"
      ]
     },
     "execution_count": 79,
     "metadata": {},
     "output_type": "execute_result"
    }
   ],
   "source": [
    "not_unique = performance_df.groupby(['Creative'])['Creative ID'].nunique()>1\n",
    "not_unique_id = performance_df.groupby(['Creative'])['Creative ID'].unique()[not_unique]\n",
    "not_unique_id"
   ]
  },
  {
   "cell_type": "markdown",
   "metadata": {},
   "source": [
    "## ID for merging"
   ]
  },
  {
   "cell_type": "markdown",
   "metadata": {},
   "source": [
    "We need an unique ID to merge with the conversions file. We know that no ID is unique, so we have to build one."
   ]
  },
  {
   "cell_type": "markdown",
   "metadata": {},
   "source": [
    "Before grouping, we replace 0x0 by 1x1 in the Placement Pixel Size column. This is because 0x0 are treated as 1x1 by SMRS."
   ]
  },
  {
   "cell_type": "code",
   "execution_count": 36,
   "metadata": {},
   "outputs": [],
   "source": [
    "performance_df.loc[performance_df['Placement Pixel Size']=='0 x 0','Placement Pixel Size']='1 x 1'"
   ]
  },
  {
   "cell_type": "code",
   "execution_count": 37,
   "metadata": {},
   "outputs": [],
   "source": [
    "group_by_ID=performance_df.groupby(['Advertiser ID',\n",
    "                                    'Campaign ID',\n",
    "                                    'Site ID (DCM)',\n",
    "                                    'Creative ID',\n",
    "                                    'Creative Type',\n",
    "                                    'Placement Pixel Size',\n",
    "                                    'Platform Type'])"
   ]
  },
  {
   "cell_type": "code",
   "execution_count": 38,
   "metadata": {},
   "outputs": [
    {
     "data": {
      "text/plain": [
       "Advertiser ID  Campaign ID  Site ID (DCM)  Creative ID  Creative Type  Placement Pixel Size  Platform Type                 \n",
       "4476036        10377164     1434033        (not set)    (not set)      1 x 1                 Desktop                                                                 [Sao Paulo]\n",
       "                                                                                             Mobile highend: smartphone                             [London, Bangalore, Unknown]\n",
       "               10379722     1434033        (not set)    (not set)      1 x 1                 Mobile highend: smartphone                                                  [Lagos]\n",
       "               10496824     1503097        75480110     Tracking       1 x 1                 Desktop                                                                [Manchester]\n",
       "               10618989     3102893        (not set)    (not set)      1 x 1                 Desktop                                                                     [Hanoi]\n",
       "               10646846     3108182        (not set)    (not set)      1 x 1                 Desktop                                                          [Unknown, Beijing]\n",
       "               10813463     1503097        (not set)    (not set)      1 x 1                 Mobile highend: smartphone                                                  [Lagos]\n",
       "               10813465     1503097        (not set)    (not set)      1 x 1                 Mobile highend: smartphone                                                [Bangkok]\n",
       "               10926150     1543478        (not set)    (not set)      1 x 1                 Desktop                                                    [Stoke Gifford, Bristol]\n",
       "               11068507     1396136        80403209     Display        160 x 600             Desktop                                                                  [Sidmouth]\n",
       "                            1424552        (not set)    (not set)      1 x 1                 Desktop                                                             [Stoke Gifford]\n",
       "                            1434033        (not set)    (not set)      1 x 1                 Desktop                                                                    [London]\n",
       "                            1454416        (not set)    (not set)      1 x 1                 Desktop                                                          [Unknown, Beijing]\n",
       "                            1489701        (not set)    (not set)      1 x 1                 Desktop                                                [Unknown, Birmingham, Lagos]\n",
       "                                                                                             Mobile highend: smartphone        [Nuneaton, Unknown, Sutton, London, Coulsdon, ...\n",
       "                                                                                             Tablet                                                                    [Unknown]\n",
       "               11090267     1424552        (not set)    (not set)      1 x 1                 Desktop                                                             [Stoke Gifford]\n",
       "               11303978     2022256        (not set)    (not set)      1 x 1                 Desktop                                                                 [Stockport]\n",
       "               20214872     1396136        93656770     Display        300 x 250             Desktop                                                                   [Ashburn]\n",
       "                                           93683943     Display        320 x 50              Desktop                                                                   [Ashburn]\n",
       "                                           94656580     Display        180 x 150             Desktop                                                                   [Unknown]\n",
       "                                           94656829     Display        300 x 50              Mobile highend: smartphone                                            [Los Angeles]\n",
       "                                           94659040     Display        320 x 50              Mobile highend: smartphone                                         [London, Manaus]\n",
       "                                           94738823     Display        120 x 600             Desktop                                                                    [Sydney]\n",
       "                                           94738826     Display        160 x 600             Tablet                                                                     [Lenexa]\n",
       "                                           95331535     Display        120 x 600             Desktop                                                                    [Aveiro]\n",
       "                                           95332144     Display        468 x 60              Desktop                                                                  [Bellevue]\n",
       "                                           95332147     Display        728 x 90              Desktop                                                                    [Madrid]\n",
       "                                           95344497     Display        300 x 600             Desktop                                                            [Olney, Unknown]\n",
       "                                           95344500     Display        300 x 250             Tablet                                                           [Swindon, Unknown]\n",
       "                                                                                                                                                     ...                        \n",
       "5655503        22745920     2866133        117844181    Tracking       1 x 1                 Desktop                                                                [Manchester]\n",
       "                            4095267        117844181    Tracking       1 x 1                 Desktop                                                                [Manchester]\n",
       "               22810599     1424552        117506414    Display        300 x 250             Desktop                                                           [Chennai, London]\n",
       "               22847178     1396136        117950675    Display        160 x 600             Desktop                                                                    [London]\n",
       "                                           117953294    Display        468 x 60              Desktop                                                                    [London]\n",
       "                                           117989106    Display        300 x 250             Desktop                                                                    [London]\n",
       "                                           118011643    Display        728 x 90              Desktop                                                                    [London]\n",
       "                            1396770        (not set)    (not set)      1 x 1                 Desktop                                                                   [Unknown]\n",
       "                                                                                             Mobile highend: smartphone                                                [Unknown]\n",
       "                                           118005886    Tracking       1 x 1                 Desktop                                                                   [Unknown]\n",
       "                            2809863        117953297    Display        120 x 600             Desktop                                                                    [London]\n",
       "                                           117989112    Display        180 x 150             Desktop                                                                    [London]\n",
       "                            4889641        (not set)    (not set)      1 x 1                 Desktop                                                                   [Unknown]\n",
       "                                                                                             Mobile highend: smartphone                                                [Unknown]\n",
       "                                           118005886    Tracking       1 x 1                 Desktop                                                                   [Unknown]\n",
       "                                                                                             Mobile highend: smartphone                                                [Unknown]\n",
       "               22852194     1396770        (not set)    (not set)      1 x 1                 Desktop                               [Chennai, Manchester, Unknown, Middlesbrough]\n",
       "                                                                                             Mobile highend: smartphone                                                [Unknown]\n",
       "                                           118308784    Tracking       1 x 1                 Connected TV                                                       [Unknown, Lagos]\n",
       "                                                                                             Desktop                           [Abuja, Bangkok, Benin City, Bergen, Bjoerneva...\n",
       "                                                                                             Mobile highend: smartphone        [Abuja, Alta, Andalsnes, Arendal, Bangkok, Ban...\n",
       "                                                                                             Mobile midrange: feature phone    [Abuja, Alta, Amsterdam, Bangkok, Benin City, ...\n",
       "                                                                                             Tablet                            [Abuja, Hamar, Johor Bahru, Kajang, Kelang, Ko...\n",
       "                            2461020        (not set)    (not set)      1 x 1                 Desktop                                                                   [Chennai]\n",
       "               22883123     1396770        117817236    Tracking       1 x 1                 Connected TV                      [Bath, Coventry, Devon, Immingham, London, Nun...\n",
       "                                                                                             Desktop                           [Chennai, Manchester, Mumbai, Unknown, Aberdee...\n",
       "                                                                                             Mobile highend: smartphone        [Unknown, Aberdeen, Abingdon, Ahmedabad, Alba ...\n",
       "                                                                                             Mobile midrange: feature phone    [Aberdeen, Abingdon, Ajman, Aldershot, Alexand...\n",
       "                                                                                             Tablet                            [Alcester, Altrincham, Ashbourne, Bedford, Bel...\n",
       "               22937950     1424552        (not set)    (not set)      1 x 1                 Desktop                                                                   [Chennai]\n",
       "Name: City, Length: 7908, dtype: object"
      ]
     },
     "execution_count": 38,
     "metadata": {},
     "output_type": "execute_result"
    }
   ],
   "source": [
    "group_by_ID['City'].unique()"
   ]
  },
  {
   "cell_type": "markdown",
   "metadata": {},
   "source": [
    "We see that the Grouping IDs are not unique because they appear in different cities. Let's see by country."
   ]
  },
  {
   "cell_type": "code",
   "execution_count": 39,
   "metadata": {},
   "outputs": [
    {
     "data": {
      "text/plain": [
       "Advertiser ID  Campaign ID  Site ID (DCM)  Creative ID  Creative Type  Placement Pixel Size  Platform Type                 \n",
       "4476036        10377164     1434033        (not set)    (not set)      1 x 1                 Desktop                                                                    [Brazil]\n",
       "                                                                                             Mobile highend: smartphone                           [United Kingdom, India, Qatar]\n",
       "               10379722     1434033        (not set)    (not set)      1 x 1                 Mobile highend: smartphone                                     [Nigeria, Fed. Rep.]\n",
       "               10496824     1503097        75480110     Tracking       1 x 1                 Desktop                                                            [United Kingdom]\n",
       "               10618989     3102893        (not set)    (not set)      1 x 1                 Desktop                                                                   [Vietnam]\n",
       "               10646846     3108182        (not set)    (not set)      1 x 1                 Desktop                                     [China, Peoples Rep., Vietnam, Unknown]\n",
       "               10813463     1503097        (not set)    (not set)      1 x 1                 Mobile highend: smartphone                                     [Nigeria, Fed. Rep.]\n",
       "               10813465     1503097        (not set)    (not set)      1 x 1                 Mobile highend: smartphone                                               [Thailand]\n",
       "               10926150     1543478        (not set)    (not set)      1 x 1                 Desktop                                                            [United Kingdom]\n",
       "               11068507     1396136        80403209     Display        160 x 600             Desktop                                                            [United Kingdom]\n",
       "                            1424552        (not set)    (not set)      1 x 1                 Desktop                                                            [United Kingdom]\n",
       "                            1434033        (not set)    (not set)      1 x 1                 Desktop                                                            [United Kingdom]\n",
       "                            1454416        (not set)    (not set)      1 x 1                 Desktop                                                       [China, Peoples Rep.]\n",
       "                            1489701        (not set)    (not set)      1 x 1                 Desktop                           [Maldives, United Kingdom, Malaysia, Nigeria, ...\n",
       "                                                                                             Mobile highend: smartphone                                [United Kingdom, Unknown]\n",
       "                                                                                             Tablet                                                                    [Germany]\n",
       "               11090267     1424552        (not set)    (not set)      1 x 1                 Desktop                                                            [United Kingdom]\n",
       "               11303978     2022256        (not set)    (not set)      1 x 1                 Desktop                                                            [United Kingdom]\n",
       "               20214872     1396136        93656770     Display        300 x 250             Desktop                                                             [United States]\n",
       "                                           93683943     Display        320 x 50              Desktop                                                             [United States]\n",
       "                                           94656580     Display        180 x 150             Desktop                                                                   [Ukraine]\n",
       "                                           94656829     Display        300 x 50              Mobile highend: smartphone                                          [United States]\n",
       "                                           94659040     Display        320 x 50              Mobile highend: smartphone                                 [United Kingdom, Brazil]\n",
       "                                           94738823     Display        120 x 600             Desktop                                                                 [Australia]\n",
       "                                           94738826     Display        160 x 600             Tablet                                                              [United States]\n",
       "                                           95331535     Display        120 x 600             Desktop                                                [Portugal, Madeira & Azores]\n",
       "                                           95332144     Display        468 x 60              Desktop                                                             [United States]\n",
       "                                           95332147     Display        728 x 90              Desktop                                                                     [Spain]\n",
       "                                           95344497     Display        300 x 600             Desktop                                                     [United States, Brazil]\n",
       "                                           95344500     Display        300 x 250             Tablet                                                      [United Kingdom, Spain]\n",
       "                                                                                                                                                     ...                        \n",
       "5655503        22745920     2866133        117844181    Tracking       1 x 1                 Desktop                                                            [United Kingdom]\n",
       "                            4095267        117844181    Tracking       1 x 1                 Desktop                                                            [United Kingdom]\n",
       "               22810599     1424552        117506414    Display        300 x 250             Desktop                                                     [India, United Kingdom]\n",
       "               22847178     1396136        117950675    Display        160 x 600             Desktop                                                            [United Kingdom]\n",
       "                                           117953294    Display        468 x 60              Desktop                                                            [United Kingdom]\n",
       "                                           117989106    Display        300 x 250             Desktop                                                            [United Kingdom]\n",
       "                                           118011643    Display        728 x 90              Desktop                                                            [United Kingdom]\n",
       "                            1396770        (not set)    (not set)      1 x 1                 Desktop                                                             [United States]\n",
       "                                                                                             Mobile highend: smartphone                                 [United States, Unknown]\n",
       "                                           118005886    Tracking       1 x 1                 Desktop                                                      [India, United States]\n",
       "                            2809863        117953297    Display        120 x 600             Desktop                                                            [United Kingdom]\n",
       "                                           117989112    Display        180 x 150             Desktop                                                            [United Kingdom]\n",
       "                            4889641        (not set)    (not set)      1 x 1                 Desktop                                                             [United States]\n",
       "                                                                                             Mobile highend: smartphone                                   [India, United States]\n",
       "                                           118005886    Tracking       1 x 1                 Desktop                                                      [India, United States]\n",
       "                                                                                             Mobile highend: smartphone                                          [United States]\n",
       "               22852194     1396770        (not set)    (not set)      1 x 1                 Desktop                             [India, United Kingdom, United States, Unknown]\n",
       "                                                                                             Mobile highend: smartphone                                   [India, United States]\n",
       "                                           118308784    Tracking       1 x 1                 Connected TV                                                   [Nigeria, Fed. Rep.]\n",
       "                                                                                             Desktop                           [Nigeria, Fed. Rep., Thailand, Norway, United ...\n",
       "                                                                                             Mobile highend: smartphone        [Nigeria, Fed. Rep., Norway, Thailand, Malaysi...\n",
       "                                                                                             Mobile midrange: feature phone    [Nigeria, Fed. Rep., Norway, Netherlands, Thai...\n",
       "                                                                                             Tablet                            [Nigeria, Fed. Rep., Norway, Malaysia, United ...\n",
       "                            2461020        (not set)    (not set)      1 x 1                 Desktop                                                                     [India]\n",
       "               22883123     1396770        117817236    Tracking       1 x 1                 Connected TV                                             [United Kingdom, Slovakia]\n",
       "                                                                                             Desktop                           [India, United Kingdom, United States, Spain, ...\n",
       "                                                                                             Mobile highend: smartphone        [United States, United Kingdom, India, Romania...\n",
       "                                                                                             Mobile midrange: feature phone    [United Kingdom, United Arab Emirates, Egypt, ...\n",
       "                                                                                             Tablet                            [United Kingdom, Hungary, Isle Of Man, Poland,...\n",
       "               22937950     1424552        (not set)    (not set)      1 x 1                 Desktop                                                                     [India]\n",
       "Name: Country, Length: 7908, dtype: object"
      ]
     },
     "execution_count": 39,
     "metadata": {},
     "output_type": "execute_result"
    }
   ],
   "source": [
    "group_by_ID['Country'].unique()"
   ]
  },
  {
   "cell_type": "markdown",
   "metadata": {},
   "source": [
    "This ID is not unique by country. We eill have to discard the City and Country columns and consider the total amounts of Click, Click Rate, Impressions, Viewable Imp., Measurable Imp., and Eligible Imp."
   ]
  },
  {
   "cell_type": "code",
   "execution_count": 40,
   "metadata": {},
   "outputs": [],
   "source": [
    "performance_grouped_by_ID_df = group_by_ID['Clicks','Impressions','Active View: Viewable Impressions',\n",
    "                                           'Active View: Measurable Impressions',\n",
    "                                           'Active View: Eligible Impressions'].sum()"
   ]
  },
  {
   "cell_type": "code",
   "execution_count": 41,
   "metadata": {
    "scrolled": true
   },
   "outputs": [
    {
     "data": {
      "text/html": [
       "<div>\n",
       "<style scoped>\n",
       "    .dataframe tbody tr th:only-of-type {\n",
       "        vertical-align: middle;\n",
       "    }\n",
       "\n",
       "    .dataframe tbody tr th {\n",
       "        vertical-align: top;\n",
       "    }\n",
       "\n",
       "    .dataframe thead th {\n",
       "        text-align: right;\n",
       "    }\n",
       "</style>\n",
       "<table border=\"1\" class=\"dataframe\">\n",
       "  <thead>\n",
       "    <tr style=\"text-align: right;\">\n",
       "      <th></th>\n",
       "      <th></th>\n",
       "      <th></th>\n",
       "      <th></th>\n",
       "      <th></th>\n",
       "      <th></th>\n",
       "      <th></th>\n",
       "      <th>Clicks</th>\n",
       "      <th>Impressions</th>\n",
       "      <th>Active View: Viewable Impressions</th>\n",
       "      <th>Active View: Measurable Impressions</th>\n",
       "      <th>Active View: Eligible Impressions</th>\n",
       "    </tr>\n",
       "    <tr>\n",
       "      <th>Advertiser ID</th>\n",
       "      <th>Campaign ID</th>\n",
       "      <th>Site ID (DCM)</th>\n",
       "      <th>Creative ID</th>\n",
       "      <th>Creative Type</th>\n",
       "      <th>Placement Pixel Size</th>\n",
       "      <th>Platform Type</th>\n",
       "      <th></th>\n",
       "      <th></th>\n",
       "      <th></th>\n",
       "      <th></th>\n",
       "      <th></th>\n",
       "    </tr>\n",
       "  </thead>\n",
       "  <tbody>\n",
       "    <tr>\n",
       "      <th rowspan=\"5\" valign=\"top\">4476036</th>\n",
       "      <th rowspan=\"2\" valign=\"top\">10377164</th>\n",
       "      <th rowspan=\"2\" valign=\"top\">1434033</th>\n",
       "      <th rowspan=\"2\" valign=\"top\">(not set)</th>\n",
       "      <th rowspan=\"2\" valign=\"top\">(not set)</th>\n",
       "      <th rowspan=\"2\" valign=\"top\">1 x 1</th>\n",
       "      <th>Desktop</th>\n",
       "      <td>1</td>\n",
       "      <td>0</td>\n",
       "      <td>0</td>\n",
       "      <td>0</td>\n",
       "      <td>0</td>\n",
       "    </tr>\n",
       "    <tr>\n",
       "      <th>Mobile highend: smartphone</th>\n",
       "      <td>4</td>\n",
       "      <td>0</td>\n",
       "      <td>0</td>\n",
       "      <td>0</td>\n",
       "      <td>0</td>\n",
       "    </tr>\n",
       "    <tr>\n",
       "      <th>10379722</th>\n",
       "      <th>1434033</th>\n",
       "      <th>(not set)</th>\n",
       "      <th>(not set)</th>\n",
       "      <th>1 x 1</th>\n",
       "      <th>Mobile highend: smartphone</th>\n",
       "      <td>1</td>\n",
       "      <td>0</td>\n",
       "      <td>0</td>\n",
       "      <td>0</td>\n",
       "      <td>0</td>\n",
       "    </tr>\n",
       "    <tr>\n",
       "      <th>10496824</th>\n",
       "      <th>1503097</th>\n",
       "      <th>75480110</th>\n",
       "      <th>Tracking</th>\n",
       "      <th>1 x 1</th>\n",
       "      <th>Desktop</th>\n",
       "      <td>1</td>\n",
       "      <td>0</td>\n",
       "      <td>0</td>\n",
       "      <td>0</td>\n",
       "      <td>0</td>\n",
       "    </tr>\n",
       "    <tr>\n",
       "      <th>10618989</th>\n",
       "      <th>3102893</th>\n",
       "      <th>(not set)</th>\n",
       "      <th>(not set)</th>\n",
       "      <th>1 x 1</th>\n",
       "      <th>Desktop</th>\n",
       "      <td>1</td>\n",
       "      <td>0</td>\n",
       "      <td>0</td>\n",
       "      <td>0</td>\n",
       "      <td>0</td>\n",
       "    </tr>\n",
       "  </tbody>\n",
       "</table>\n",
       "</div>"
      ],
      "text/plain": [
       "                                                                                                                   Clicks  \\\n",
       "Advertiser ID Campaign ID Site ID (DCM) Creative ID Creative Type Placement Pixel Size Platform Type                        \n",
       "4476036       10377164    1434033       (not set)   (not set)     1 x 1                Desktop                          1   \n",
       "                                                                                       Mobile highend: smartphone       4   \n",
       "              10379722    1434033       (not set)   (not set)     1 x 1                Mobile highend: smartphone       1   \n",
       "              10496824    1503097       75480110    Tracking      1 x 1                Desktop                          1   \n",
       "              10618989    3102893       (not set)   (not set)     1 x 1                Desktop                          1   \n",
       "\n",
       "                                                                                                                   Impressions  \\\n",
       "Advertiser ID Campaign ID Site ID (DCM) Creative ID Creative Type Placement Pixel Size Platform Type                             \n",
       "4476036       10377164    1434033       (not set)   (not set)     1 x 1                Desktop                               0   \n",
       "                                                                                       Mobile highend: smartphone            0   \n",
       "              10379722    1434033       (not set)   (not set)     1 x 1                Mobile highend: smartphone            0   \n",
       "              10496824    1503097       75480110    Tracking      1 x 1                Desktop                               0   \n",
       "              10618989    3102893       (not set)   (not set)     1 x 1                Desktop                               0   \n",
       "\n",
       "                                                                                                                   Active View: Viewable Impressions  \\\n",
       "Advertiser ID Campaign ID Site ID (DCM) Creative ID Creative Type Placement Pixel Size Platform Type                                                   \n",
       "4476036       10377164    1434033       (not set)   (not set)     1 x 1                Desktop                                                     0   \n",
       "                                                                                       Mobile highend: smartphone                                  0   \n",
       "              10379722    1434033       (not set)   (not set)     1 x 1                Mobile highend: smartphone                                  0   \n",
       "              10496824    1503097       75480110    Tracking      1 x 1                Desktop                                                     0   \n",
       "              10618989    3102893       (not set)   (not set)     1 x 1                Desktop                                                     0   \n",
       "\n",
       "                                                                                                                   Active View: Measurable Impressions  \\\n",
       "Advertiser ID Campaign ID Site ID (DCM) Creative ID Creative Type Placement Pixel Size Platform Type                                                     \n",
       "4476036       10377164    1434033       (not set)   (not set)     1 x 1                Desktop                                                       0   \n",
       "                                                                                       Mobile highend: smartphone                                    0   \n",
       "              10379722    1434033       (not set)   (not set)     1 x 1                Mobile highend: smartphone                                    0   \n",
       "              10496824    1503097       75480110    Tracking      1 x 1                Desktop                                                       0   \n",
       "              10618989    3102893       (not set)   (not set)     1 x 1                Desktop                                                       0   \n",
       "\n",
       "                                                                                                                   Active View: Eligible Impressions  \n",
       "Advertiser ID Campaign ID Site ID (DCM) Creative ID Creative Type Placement Pixel Size Platform Type                                                  \n",
       "4476036       10377164    1434033       (not set)   (not set)     1 x 1                Desktop                                                     0  \n",
       "                                                                                       Mobile highend: smartphone                                  0  \n",
       "              10379722    1434033       (not set)   (not set)     1 x 1                Mobile highend: smartphone                                  0  \n",
       "              10496824    1503097       75480110    Tracking      1 x 1                Desktop                                                     0  \n",
       "              10618989    3102893       (not set)   (not set)     1 x 1                Desktop                                                     0  "
      ]
     },
     "execution_count": 41,
     "metadata": {},
     "output_type": "execute_result"
    }
   ],
   "source": [
    "performance_grouped_by_ID_df.head()"
   ]
  },
  {
   "cell_type": "markdown",
   "metadata": {},
   "source": [
    "Calculate click rate and deal with np.nan and np.inf"
   ]
  },
  {
   "cell_type": "code",
   "execution_count": 42,
   "metadata": {},
   "outputs": [],
   "source": [
    "performance_grouped_by_ID_df['Click Rate']=performance_grouped_by_ID_df['Clicks']/performance_grouped_by_ID_df['Impressions']*100"
   ]
  },
  {
   "cell_type": "code",
   "execution_count": 43,
   "metadata": {},
   "outputs": [
    {
     "data": {
      "text/html": [
       "<div>\n",
       "<style scoped>\n",
       "    .dataframe tbody tr th:only-of-type {\n",
       "        vertical-align: middle;\n",
       "    }\n",
       "\n",
       "    .dataframe tbody tr th {\n",
       "        vertical-align: top;\n",
       "    }\n",
       "\n",
       "    .dataframe thead th {\n",
       "        text-align: right;\n",
       "    }\n",
       "</style>\n",
       "<table border=\"1\" class=\"dataframe\">\n",
       "  <thead>\n",
       "    <tr style=\"text-align: right;\">\n",
       "      <th></th>\n",
       "      <th></th>\n",
       "      <th></th>\n",
       "      <th></th>\n",
       "      <th></th>\n",
       "      <th></th>\n",
       "      <th></th>\n",
       "      <th>Clicks</th>\n",
       "      <th>Impressions</th>\n",
       "      <th>Active View: Viewable Impressions</th>\n",
       "      <th>Active View: Measurable Impressions</th>\n",
       "      <th>Active View: Eligible Impressions</th>\n",
       "      <th>Click Rate</th>\n",
       "    </tr>\n",
       "    <tr>\n",
       "      <th>Advertiser ID</th>\n",
       "      <th>Campaign ID</th>\n",
       "      <th>Site ID (DCM)</th>\n",
       "      <th>Creative ID</th>\n",
       "      <th>Creative Type</th>\n",
       "      <th>Placement Pixel Size</th>\n",
       "      <th>Platform Type</th>\n",
       "      <th></th>\n",
       "      <th></th>\n",
       "      <th></th>\n",
       "      <th></th>\n",
       "      <th></th>\n",
       "      <th></th>\n",
       "    </tr>\n",
       "  </thead>\n",
       "  <tbody>\n",
       "    <tr>\n",
       "      <th rowspan=\"5\" valign=\"top\">4476036</th>\n",
       "      <th rowspan=\"2\" valign=\"top\">10377164</th>\n",
       "      <th rowspan=\"2\" valign=\"top\">1434033</th>\n",
       "      <th rowspan=\"2\" valign=\"top\">(not set)</th>\n",
       "      <th rowspan=\"2\" valign=\"top\">(not set)</th>\n",
       "      <th rowspan=\"2\" valign=\"top\">1 x 1</th>\n",
       "      <th>Desktop</th>\n",
       "      <td>1</td>\n",
       "      <td>0</td>\n",
       "      <td>0</td>\n",
       "      <td>0</td>\n",
       "      <td>0</td>\n",
       "      <td>inf</td>\n",
       "    </tr>\n",
       "    <tr>\n",
       "      <th>Mobile highend: smartphone</th>\n",
       "      <td>4</td>\n",
       "      <td>0</td>\n",
       "      <td>0</td>\n",
       "      <td>0</td>\n",
       "      <td>0</td>\n",
       "      <td>inf</td>\n",
       "    </tr>\n",
       "    <tr>\n",
       "      <th>10379722</th>\n",
       "      <th>1434033</th>\n",
       "      <th>(not set)</th>\n",
       "      <th>(not set)</th>\n",
       "      <th>1 x 1</th>\n",
       "      <th>Mobile highend: smartphone</th>\n",
       "      <td>1</td>\n",
       "      <td>0</td>\n",
       "      <td>0</td>\n",
       "      <td>0</td>\n",
       "      <td>0</td>\n",
       "      <td>inf</td>\n",
       "    </tr>\n",
       "    <tr>\n",
       "      <th>10496824</th>\n",
       "      <th>1503097</th>\n",
       "      <th>75480110</th>\n",
       "      <th>Tracking</th>\n",
       "      <th>1 x 1</th>\n",
       "      <th>Desktop</th>\n",
       "      <td>1</td>\n",
       "      <td>0</td>\n",
       "      <td>0</td>\n",
       "      <td>0</td>\n",
       "      <td>0</td>\n",
       "      <td>inf</td>\n",
       "    </tr>\n",
       "    <tr>\n",
       "      <th>10618989</th>\n",
       "      <th>3102893</th>\n",
       "      <th>(not set)</th>\n",
       "      <th>(not set)</th>\n",
       "      <th>1 x 1</th>\n",
       "      <th>Desktop</th>\n",
       "      <td>1</td>\n",
       "      <td>0</td>\n",
       "      <td>0</td>\n",
       "      <td>0</td>\n",
       "      <td>0</td>\n",
       "      <td>inf</td>\n",
       "    </tr>\n",
       "  </tbody>\n",
       "</table>\n",
       "</div>"
      ],
      "text/plain": [
       "                                                                                                                   Clicks  \\\n",
       "Advertiser ID Campaign ID Site ID (DCM) Creative ID Creative Type Placement Pixel Size Platform Type                        \n",
       "4476036       10377164    1434033       (not set)   (not set)     1 x 1                Desktop                          1   \n",
       "                                                                                       Mobile highend: smartphone       4   \n",
       "              10379722    1434033       (not set)   (not set)     1 x 1                Mobile highend: smartphone       1   \n",
       "              10496824    1503097       75480110    Tracking      1 x 1                Desktop                          1   \n",
       "              10618989    3102893       (not set)   (not set)     1 x 1                Desktop                          1   \n",
       "\n",
       "                                                                                                                   Impressions  \\\n",
       "Advertiser ID Campaign ID Site ID (DCM) Creative ID Creative Type Placement Pixel Size Platform Type                             \n",
       "4476036       10377164    1434033       (not set)   (not set)     1 x 1                Desktop                               0   \n",
       "                                                                                       Mobile highend: smartphone            0   \n",
       "              10379722    1434033       (not set)   (not set)     1 x 1                Mobile highend: smartphone            0   \n",
       "              10496824    1503097       75480110    Tracking      1 x 1                Desktop                               0   \n",
       "              10618989    3102893       (not set)   (not set)     1 x 1                Desktop                               0   \n",
       "\n",
       "                                                                                                                   Active View: Viewable Impressions  \\\n",
       "Advertiser ID Campaign ID Site ID (DCM) Creative ID Creative Type Placement Pixel Size Platform Type                                                   \n",
       "4476036       10377164    1434033       (not set)   (not set)     1 x 1                Desktop                                                     0   \n",
       "                                                                                       Mobile highend: smartphone                                  0   \n",
       "              10379722    1434033       (not set)   (not set)     1 x 1                Mobile highend: smartphone                                  0   \n",
       "              10496824    1503097       75480110    Tracking      1 x 1                Desktop                                                     0   \n",
       "              10618989    3102893       (not set)   (not set)     1 x 1                Desktop                                                     0   \n",
       "\n",
       "                                                                                                                   Active View: Measurable Impressions  \\\n",
       "Advertiser ID Campaign ID Site ID (DCM) Creative ID Creative Type Placement Pixel Size Platform Type                                                     \n",
       "4476036       10377164    1434033       (not set)   (not set)     1 x 1                Desktop                                                       0   \n",
       "                                                                                       Mobile highend: smartphone                                    0   \n",
       "              10379722    1434033       (not set)   (not set)     1 x 1                Mobile highend: smartphone                                    0   \n",
       "              10496824    1503097       75480110    Tracking      1 x 1                Desktop                                                       0   \n",
       "              10618989    3102893       (not set)   (not set)     1 x 1                Desktop                                                       0   \n",
       "\n",
       "                                                                                                                   Active View: Eligible Impressions  \\\n",
       "Advertiser ID Campaign ID Site ID (DCM) Creative ID Creative Type Placement Pixel Size Platform Type                                                   \n",
       "4476036       10377164    1434033       (not set)   (not set)     1 x 1                Desktop                                                     0   \n",
       "                                                                                       Mobile highend: smartphone                                  0   \n",
       "              10379722    1434033       (not set)   (not set)     1 x 1                Mobile highend: smartphone                                  0   \n",
       "              10496824    1503097       75480110    Tracking      1 x 1                Desktop                                                     0   \n",
       "              10618989    3102893       (not set)   (not set)     1 x 1                Desktop                                                     0   \n",
       "\n",
       "                                                                                                                   Click Rate  \n",
       "Advertiser ID Campaign ID Site ID (DCM) Creative ID Creative Type Placement Pixel Size Platform Type                           \n",
       "4476036       10377164    1434033       (not set)   (not set)     1 x 1                Desktop                            inf  \n",
       "                                                                                       Mobile highend: smartphone         inf  \n",
       "              10379722    1434033       (not set)   (not set)     1 x 1                Mobile highend: smartphone         inf  \n",
       "              10496824    1503097       75480110    Tracking      1 x 1                Desktop                            inf  \n",
       "              10618989    3102893       (not set)   (not set)     1 x 1                Desktop                            inf  "
      ]
     },
     "execution_count": 43,
     "metadata": {},
     "output_type": "execute_result"
    }
   ],
   "source": [
    "performance_grouped_by_ID_df.head()"
   ]
  },
  {
   "cell_type": "code",
   "execution_count": 44,
   "metadata": {},
   "outputs": [],
   "source": [
    "# We replace np.inf values with np.nan for cases where impressions is 0 and clicks > 0\n",
    "# We replace np.nan values with 0 for cases where impressions is 0 and clicks = 0\n",
    "# THE ORDER OF THESE OPERATIONS MATTERS AND YOU HAVE TO REPLACE np.nan WITH 0 FIRST!!!\n",
    "\n",
    "performance_grouped_by_ID_df['Click Rate'].replace(to_replace=np.nan,value=0,inplace=True)\n",
    "performance_grouped_by_ID_df['Click Rate'].replace(to_replace=np.inf,value=np.nan,inplace=True)"
   ]
  },
  {
   "cell_type": "code",
   "execution_count": 45,
   "metadata": {},
   "outputs": [],
   "source": [
    "# Check that the one_pix_track have a click rate of np.nan\n",
    "\n",
    "cond1=performance_grouped_by_ID_df['Clicks']>0\n",
    "cond2=performance_grouped_by_ID_df['Impressions']==0\n",
    "\n",
    "one_pix_track_df=performance_grouped_by_ID_df[cond1 & cond2]"
   ]
  },
  {
   "cell_type": "code",
   "execution_count": 46,
   "metadata": {},
   "outputs": [
    {
     "data": {
      "text/html": [
       "<div>\n",
       "<style scoped>\n",
       "    .dataframe tbody tr th:only-of-type {\n",
       "        vertical-align: middle;\n",
       "    }\n",
       "\n",
       "    .dataframe tbody tr th {\n",
       "        vertical-align: top;\n",
       "    }\n",
       "\n",
       "    .dataframe thead th {\n",
       "        text-align: right;\n",
       "    }\n",
       "</style>\n",
       "<table border=\"1\" class=\"dataframe\">\n",
       "  <thead>\n",
       "    <tr style=\"text-align: right;\">\n",
       "      <th></th>\n",
       "      <th></th>\n",
       "      <th></th>\n",
       "      <th></th>\n",
       "      <th></th>\n",
       "      <th></th>\n",
       "      <th></th>\n",
       "      <th>Clicks</th>\n",
       "      <th>Impressions</th>\n",
       "      <th>Active View: Viewable Impressions</th>\n",
       "      <th>Active View: Measurable Impressions</th>\n",
       "      <th>Active View: Eligible Impressions</th>\n",
       "      <th>Click Rate</th>\n",
       "    </tr>\n",
       "    <tr>\n",
       "      <th>Advertiser ID</th>\n",
       "      <th>Campaign ID</th>\n",
       "      <th>Site ID (DCM)</th>\n",
       "      <th>Creative ID</th>\n",
       "      <th>Creative Type</th>\n",
       "      <th>Placement Pixel Size</th>\n",
       "      <th>Platform Type</th>\n",
       "      <th></th>\n",
       "      <th></th>\n",
       "      <th></th>\n",
       "      <th></th>\n",
       "      <th></th>\n",
       "      <th></th>\n",
       "    </tr>\n",
       "  </thead>\n",
       "  <tbody>\n",
       "    <tr>\n",
       "      <th rowspan=\"5\" valign=\"top\">4476036</th>\n",
       "      <th rowspan=\"2\" valign=\"top\">10377164</th>\n",
       "      <th rowspan=\"2\" valign=\"top\">1434033</th>\n",
       "      <th rowspan=\"2\" valign=\"top\">(not set)</th>\n",
       "      <th rowspan=\"2\" valign=\"top\">(not set)</th>\n",
       "      <th rowspan=\"2\" valign=\"top\">1 x 1</th>\n",
       "      <th>Desktop</th>\n",
       "      <td>1</td>\n",
       "      <td>0</td>\n",
       "      <td>0</td>\n",
       "      <td>0</td>\n",
       "      <td>0</td>\n",
       "      <td>NaN</td>\n",
       "    </tr>\n",
       "    <tr>\n",
       "      <th>Mobile highend: smartphone</th>\n",
       "      <td>4</td>\n",
       "      <td>0</td>\n",
       "      <td>0</td>\n",
       "      <td>0</td>\n",
       "      <td>0</td>\n",
       "      <td>NaN</td>\n",
       "    </tr>\n",
       "    <tr>\n",
       "      <th>10379722</th>\n",
       "      <th>1434033</th>\n",
       "      <th>(not set)</th>\n",
       "      <th>(not set)</th>\n",
       "      <th>1 x 1</th>\n",
       "      <th>Mobile highend: smartphone</th>\n",
       "      <td>1</td>\n",
       "      <td>0</td>\n",
       "      <td>0</td>\n",
       "      <td>0</td>\n",
       "      <td>0</td>\n",
       "      <td>NaN</td>\n",
       "    </tr>\n",
       "    <tr>\n",
       "      <th>10496824</th>\n",
       "      <th>1503097</th>\n",
       "      <th>75480110</th>\n",
       "      <th>Tracking</th>\n",
       "      <th>1 x 1</th>\n",
       "      <th>Desktop</th>\n",
       "      <td>1</td>\n",
       "      <td>0</td>\n",
       "      <td>0</td>\n",
       "      <td>0</td>\n",
       "      <td>0</td>\n",
       "      <td>NaN</td>\n",
       "    </tr>\n",
       "    <tr>\n",
       "      <th>10618989</th>\n",
       "      <th>3102893</th>\n",
       "      <th>(not set)</th>\n",
       "      <th>(not set)</th>\n",
       "      <th>1 x 1</th>\n",
       "      <th>Desktop</th>\n",
       "      <td>1</td>\n",
       "      <td>0</td>\n",
       "      <td>0</td>\n",
       "      <td>0</td>\n",
       "      <td>0</td>\n",
       "      <td>NaN</td>\n",
       "    </tr>\n",
       "  </tbody>\n",
       "</table>\n",
       "</div>"
      ],
      "text/plain": [
       "                                                                                                                   Clicks  \\\n",
       "Advertiser ID Campaign ID Site ID (DCM) Creative ID Creative Type Placement Pixel Size Platform Type                        \n",
       "4476036       10377164    1434033       (not set)   (not set)     1 x 1                Desktop                          1   \n",
       "                                                                                       Mobile highend: smartphone       4   \n",
       "              10379722    1434033       (not set)   (not set)     1 x 1                Mobile highend: smartphone       1   \n",
       "              10496824    1503097       75480110    Tracking      1 x 1                Desktop                          1   \n",
       "              10618989    3102893       (not set)   (not set)     1 x 1                Desktop                          1   \n",
       "\n",
       "                                                                                                                   Impressions  \\\n",
       "Advertiser ID Campaign ID Site ID (DCM) Creative ID Creative Type Placement Pixel Size Platform Type                             \n",
       "4476036       10377164    1434033       (not set)   (not set)     1 x 1                Desktop                               0   \n",
       "                                                                                       Mobile highend: smartphone            0   \n",
       "              10379722    1434033       (not set)   (not set)     1 x 1                Mobile highend: smartphone            0   \n",
       "              10496824    1503097       75480110    Tracking      1 x 1                Desktop                               0   \n",
       "              10618989    3102893       (not set)   (not set)     1 x 1                Desktop                               0   \n",
       "\n",
       "                                                                                                                   Active View: Viewable Impressions  \\\n",
       "Advertiser ID Campaign ID Site ID (DCM) Creative ID Creative Type Placement Pixel Size Platform Type                                                   \n",
       "4476036       10377164    1434033       (not set)   (not set)     1 x 1                Desktop                                                     0   \n",
       "                                                                                       Mobile highend: smartphone                                  0   \n",
       "              10379722    1434033       (not set)   (not set)     1 x 1                Mobile highend: smartphone                                  0   \n",
       "              10496824    1503097       75480110    Tracking      1 x 1                Desktop                                                     0   \n",
       "              10618989    3102893       (not set)   (not set)     1 x 1                Desktop                                                     0   \n",
       "\n",
       "                                                                                                                   Active View: Measurable Impressions  \\\n",
       "Advertiser ID Campaign ID Site ID (DCM) Creative ID Creative Type Placement Pixel Size Platform Type                                                     \n",
       "4476036       10377164    1434033       (not set)   (not set)     1 x 1                Desktop                                                       0   \n",
       "                                                                                       Mobile highend: smartphone                                    0   \n",
       "              10379722    1434033       (not set)   (not set)     1 x 1                Mobile highend: smartphone                                    0   \n",
       "              10496824    1503097       75480110    Tracking      1 x 1                Desktop                                                       0   \n",
       "              10618989    3102893       (not set)   (not set)     1 x 1                Desktop                                                       0   \n",
       "\n",
       "                                                                                                                   Active View: Eligible Impressions  \\\n",
       "Advertiser ID Campaign ID Site ID (DCM) Creative ID Creative Type Placement Pixel Size Platform Type                                                   \n",
       "4476036       10377164    1434033       (not set)   (not set)     1 x 1                Desktop                                                     0   \n",
       "                                                                                       Mobile highend: smartphone                                  0   \n",
       "              10379722    1434033       (not set)   (not set)     1 x 1                Mobile highend: smartphone                                  0   \n",
       "              10496824    1503097       75480110    Tracking      1 x 1                Desktop                                                     0   \n",
       "              10618989    3102893       (not set)   (not set)     1 x 1                Desktop                                                     0   \n",
       "\n",
       "                                                                                                                   Click Rate  \n",
       "Advertiser ID Campaign ID Site ID (DCM) Creative ID Creative Type Placement Pixel Size Platform Type                           \n",
       "4476036       10377164    1434033       (not set)   (not set)     1 x 1                Desktop                            NaN  \n",
       "                                                                                       Mobile highend: smartphone         NaN  \n",
       "              10379722    1434033       (not set)   (not set)     1 x 1                Mobile highend: smartphone         NaN  \n",
       "              10496824    1503097       75480110    Tracking      1 x 1                Desktop                            NaN  \n",
       "              10618989    3102893       (not set)   (not set)     1 x 1                Desktop                            NaN  "
      ]
     },
     "execution_count": 46,
     "metadata": {},
     "output_type": "execute_result"
    }
   ],
   "source": [
    "one_pix_track_df.head()"
   ]
  },
  {
   "cell_type": "code",
   "execution_count": 47,
   "metadata": {},
   "outputs": [],
   "source": [
    "performance_grouped_by_ID_df=performance_grouped_by_ID_df.reset_index()"
   ]
  },
  {
   "cell_type": "code",
   "execution_count": 48,
   "metadata": {},
   "outputs": [
    {
     "data": {
      "text/html": [
       "<div>\n",
       "<style scoped>\n",
       "    .dataframe tbody tr th:only-of-type {\n",
       "        vertical-align: middle;\n",
       "    }\n",
       "\n",
       "    .dataframe tbody tr th {\n",
       "        vertical-align: top;\n",
       "    }\n",
       "\n",
       "    .dataframe thead th {\n",
       "        text-align: right;\n",
       "    }\n",
       "</style>\n",
       "<table border=\"1\" class=\"dataframe\">\n",
       "  <thead>\n",
       "    <tr style=\"text-align: right;\">\n",
       "      <th></th>\n",
       "      <th>Advertiser ID</th>\n",
       "      <th>Campaign ID</th>\n",
       "      <th>Site ID (DCM)</th>\n",
       "      <th>Creative ID</th>\n",
       "      <th>Creative Type</th>\n",
       "      <th>Placement Pixel Size</th>\n",
       "      <th>Platform Type</th>\n",
       "      <th>Clicks</th>\n",
       "      <th>Impressions</th>\n",
       "      <th>Active View: Viewable Impressions</th>\n",
       "      <th>Active View: Measurable Impressions</th>\n",
       "      <th>Active View: Eligible Impressions</th>\n",
       "      <th>Click Rate</th>\n",
       "    </tr>\n",
       "  </thead>\n",
       "  <tbody>\n",
       "    <tr>\n",
       "      <th>0</th>\n",
       "      <td>4476036</td>\n",
       "      <td>10377164</td>\n",
       "      <td>1434033</td>\n",
       "      <td>(not set)</td>\n",
       "      <td>(not set)</td>\n",
       "      <td>1 x 1</td>\n",
       "      <td>Desktop</td>\n",
       "      <td>1</td>\n",
       "      <td>0</td>\n",
       "      <td>0</td>\n",
       "      <td>0</td>\n",
       "      <td>0</td>\n",
       "      <td>NaN</td>\n",
       "    </tr>\n",
       "    <tr>\n",
       "      <th>1</th>\n",
       "      <td>4476036</td>\n",
       "      <td>10377164</td>\n",
       "      <td>1434033</td>\n",
       "      <td>(not set)</td>\n",
       "      <td>(not set)</td>\n",
       "      <td>1 x 1</td>\n",
       "      <td>Mobile highend: smartphone</td>\n",
       "      <td>4</td>\n",
       "      <td>0</td>\n",
       "      <td>0</td>\n",
       "      <td>0</td>\n",
       "      <td>0</td>\n",
       "      <td>NaN</td>\n",
       "    </tr>\n",
       "    <tr>\n",
       "      <th>2</th>\n",
       "      <td>4476036</td>\n",
       "      <td>10379722</td>\n",
       "      <td>1434033</td>\n",
       "      <td>(not set)</td>\n",
       "      <td>(not set)</td>\n",
       "      <td>1 x 1</td>\n",
       "      <td>Mobile highend: smartphone</td>\n",
       "      <td>1</td>\n",
       "      <td>0</td>\n",
       "      <td>0</td>\n",
       "      <td>0</td>\n",
       "      <td>0</td>\n",
       "      <td>NaN</td>\n",
       "    </tr>\n",
       "    <tr>\n",
       "      <th>3</th>\n",
       "      <td>4476036</td>\n",
       "      <td>10496824</td>\n",
       "      <td>1503097</td>\n",
       "      <td>75480110</td>\n",
       "      <td>Tracking</td>\n",
       "      <td>1 x 1</td>\n",
       "      <td>Desktop</td>\n",
       "      <td>1</td>\n",
       "      <td>0</td>\n",
       "      <td>0</td>\n",
       "      <td>0</td>\n",
       "      <td>0</td>\n",
       "      <td>NaN</td>\n",
       "    </tr>\n",
       "    <tr>\n",
       "      <th>4</th>\n",
       "      <td>4476036</td>\n",
       "      <td>10618989</td>\n",
       "      <td>3102893</td>\n",
       "      <td>(not set)</td>\n",
       "      <td>(not set)</td>\n",
       "      <td>1 x 1</td>\n",
       "      <td>Desktop</td>\n",
       "      <td>1</td>\n",
       "      <td>0</td>\n",
       "      <td>0</td>\n",
       "      <td>0</td>\n",
       "      <td>0</td>\n",
       "      <td>NaN</td>\n",
       "    </tr>\n",
       "  </tbody>\n",
       "</table>\n",
       "</div>"
      ],
      "text/plain": [
       "  Advertiser ID Campaign ID Site ID (DCM) Creative ID Creative Type  \\\n",
       "0       4476036    10377164       1434033   (not set)     (not set)   \n",
       "1       4476036    10377164       1434033   (not set)     (not set)   \n",
       "2       4476036    10379722       1434033   (not set)     (not set)   \n",
       "3       4476036    10496824       1503097    75480110      Tracking   \n",
       "4       4476036    10618989       3102893   (not set)     (not set)   \n",
       "\n",
       "  Placement Pixel Size               Platform Type  Clicks  Impressions  \\\n",
       "0                1 x 1                     Desktop       1            0   \n",
       "1                1 x 1  Mobile highend: smartphone       4            0   \n",
       "2                1 x 1  Mobile highend: smartphone       1            0   \n",
       "3                1 x 1                     Desktop       1            0   \n",
       "4                1 x 1                     Desktop       1            0   \n",
       "\n",
       "   Active View: Viewable Impressions  Active View: Measurable Impressions  \\\n",
       "0                                  0                                    0   \n",
       "1                                  0                                    0   \n",
       "2                                  0                                    0   \n",
       "3                                  0                                    0   \n",
       "4                                  0                                    0   \n",
       "\n",
       "   Active View: Eligible Impressions  Click Rate  \n",
       "0                                  0         NaN  \n",
       "1                                  0         NaN  \n",
       "2                                  0         NaN  \n",
       "3                                  0         NaN  \n",
       "4                                  0         NaN  "
      ]
     },
     "execution_count": 48,
     "metadata": {},
     "output_type": "execute_result"
    }
   ],
   "source": [
    "performance_grouped_by_ID_df.head()"
   ]
  },
  {
   "cell_type": "code",
   "execution_count": 49,
   "metadata": {},
   "outputs": [
    {
     "data": {
      "text/html": [
       "<div>\n",
       "<style scoped>\n",
       "    .dataframe tbody tr th:only-of-type {\n",
       "        vertical-align: middle;\n",
       "    }\n",
       "\n",
       "    .dataframe tbody tr th {\n",
       "        vertical-align: top;\n",
       "    }\n",
       "\n",
       "    .dataframe thead th {\n",
       "        text-align: right;\n",
       "    }\n",
       "</style>\n",
       "<table border=\"1\" class=\"dataframe\">\n",
       "  <thead>\n",
       "    <tr style=\"text-align: right;\">\n",
       "      <th></th>\n",
       "      <th>Advertiser ID</th>\n",
       "      <th>Campaign ID</th>\n",
       "      <th>Site ID (DCM)</th>\n",
       "      <th>Creative ID</th>\n",
       "      <th>Creative Type</th>\n",
       "      <th>Placement Pixel Size</th>\n",
       "      <th>Platform Type</th>\n",
       "      <th>Clicks</th>\n",
       "      <th>Impressions</th>\n",
       "      <th>Active View: Viewable Impressions</th>\n",
       "      <th>Active View: Measurable Impressions</th>\n",
       "      <th>Active View: Eligible Impressions</th>\n",
       "      <th>Click Rate</th>\n",
       "      <th>ID</th>\n",
       "    </tr>\n",
       "  </thead>\n",
       "  <tbody>\n",
       "    <tr>\n",
       "      <th>0</th>\n",
       "      <td>4476036</td>\n",
       "      <td>10377164</td>\n",
       "      <td>1434033</td>\n",
       "      <td>(not set)</td>\n",
       "      <td>(not set)</td>\n",
       "      <td>1 x 1</td>\n",
       "      <td>Desktop</td>\n",
       "      <td>1</td>\n",
       "      <td>0</td>\n",
       "      <td>0</td>\n",
       "      <td>0</td>\n",
       "      <td>0</td>\n",
       "      <td>NaN</td>\n",
       "      <td>4476036_10377164_1434033_(not set)_(not set)_1...</td>\n",
       "    </tr>\n",
       "    <tr>\n",
       "      <th>1</th>\n",
       "      <td>4476036</td>\n",
       "      <td>10377164</td>\n",
       "      <td>1434033</td>\n",
       "      <td>(not set)</td>\n",
       "      <td>(not set)</td>\n",
       "      <td>1 x 1</td>\n",
       "      <td>Mobile highend: smartphone</td>\n",
       "      <td>4</td>\n",
       "      <td>0</td>\n",
       "      <td>0</td>\n",
       "      <td>0</td>\n",
       "      <td>0</td>\n",
       "      <td>NaN</td>\n",
       "      <td>4476036_10377164_1434033_(not set)_(not set)_1...</td>\n",
       "    </tr>\n",
       "    <tr>\n",
       "      <th>2</th>\n",
       "      <td>4476036</td>\n",
       "      <td>10379722</td>\n",
       "      <td>1434033</td>\n",
       "      <td>(not set)</td>\n",
       "      <td>(not set)</td>\n",
       "      <td>1 x 1</td>\n",
       "      <td>Mobile highend: smartphone</td>\n",
       "      <td>1</td>\n",
       "      <td>0</td>\n",
       "      <td>0</td>\n",
       "      <td>0</td>\n",
       "      <td>0</td>\n",
       "      <td>NaN</td>\n",
       "      <td>4476036_10379722_1434033_(not set)_(not set)_1...</td>\n",
       "    </tr>\n",
       "    <tr>\n",
       "      <th>3</th>\n",
       "      <td>4476036</td>\n",
       "      <td>10496824</td>\n",
       "      <td>1503097</td>\n",
       "      <td>75480110</td>\n",
       "      <td>Tracking</td>\n",
       "      <td>1 x 1</td>\n",
       "      <td>Desktop</td>\n",
       "      <td>1</td>\n",
       "      <td>0</td>\n",
       "      <td>0</td>\n",
       "      <td>0</td>\n",
       "      <td>0</td>\n",
       "      <td>NaN</td>\n",
       "      <td>4476036_10496824_1503097_75480110_Tracking_1 x...</td>\n",
       "    </tr>\n",
       "    <tr>\n",
       "      <th>4</th>\n",
       "      <td>4476036</td>\n",
       "      <td>10618989</td>\n",
       "      <td>3102893</td>\n",
       "      <td>(not set)</td>\n",
       "      <td>(not set)</td>\n",
       "      <td>1 x 1</td>\n",
       "      <td>Desktop</td>\n",
       "      <td>1</td>\n",
       "      <td>0</td>\n",
       "      <td>0</td>\n",
       "      <td>0</td>\n",
       "      <td>0</td>\n",
       "      <td>NaN</td>\n",
       "      <td>4476036_10618989_3102893_(not set)_(not set)_1...</td>\n",
       "    </tr>\n",
       "  </tbody>\n",
       "</table>\n",
       "</div>"
      ],
      "text/plain": [
       "  Advertiser ID Campaign ID Site ID (DCM) Creative ID Creative Type  \\\n",
       "0       4476036    10377164       1434033   (not set)     (not set)   \n",
       "1       4476036    10377164       1434033   (not set)     (not set)   \n",
       "2       4476036    10379722       1434033   (not set)     (not set)   \n",
       "3       4476036    10496824       1503097    75480110      Tracking   \n",
       "4       4476036    10618989       3102893   (not set)     (not set)   \n",
       "\n",
       "  Placement Pixel Size               Platform Type  Clicks  Impressions  \\\n",
       "0                1 x 1                     Desktop       1            0   \n",
       "1                1 x 1  Mobile highend: smartphone       4            0   \n",
       "2                1 x 1  Mobile highend: smartphone       1            0   \n",
       "3                1 x 1                     Desktop       1            0   \n",
       "4                1 x 1                     Desktop       1            0   \n",
       "\n",
       "   Active View: Viewable Impressions  Active View: Measurable Impressions  \\\n",
       "0                                  0                                    0   \n",
       "1                                  0                                    0   \n",
       "2                                  0                                    0   \n",
       "3                                  0                                    0   \n",
       "4                                  0                                    0   \n",
       "\n",
       "   Active View: Eligible Impressions  Click Rate  \\\n",
       "0                                  0         NaN   \n",
       "1                                  0         NaN   \n",
       "2                                  0         NaN   \n",
       "3                                  0         NaN   \n",
       "4                                  0         NaN   \n",
       "\n",
       "                                                  ID  \n",
       "0  4476036_10377164_1434033_(not set)_(not set)_1...  \n",
       "1  4476036_10377164_1434033_(not set)_(not set)_1...  \n",
       "2  4476036_10379722_1434033_(not set)_(not set)_1...  \n",
       "3  4476036_10496824_1503097_75480110_Tracking_1 x...  \n",
       "4  4476036_10618989_3102893_(not set)_(not set)_1...  "
      ]
     },
     "execution_count": 49,
     "metadata": {},
     "output_type": "execute_result"
    }
   ],
   "source": [
    "id_cols=['Campaign ID', 'Site ID (DCM)', 'Creative ID', 'Creative Type', 'Placement Pixel Size', 'Platform Type']\n",
    "ids = performance_grouped_by_ID_df['Advertiser ID']\n",
    "\n",
    "for c in id_cols:\n",
    "    ids=ids.str.cat(performance_grouped_by_ID_df[c], sep='_')\n",
    "\n",
    "performance_grouped_by_ID_df['ID']=ids\n",
    "performance_grouped_by_ID_df.head()"
   ]
  },
  {
   "cell_type": "code",
   "execution_count": 50,
   "metadata": {},
   "outputs": [
    {
     "data": {
      "text/plain": [
       "7908"
      ]
     },
     "execution_count": 50,
     "metadata": {},
     "output_type": "execute_result"
    }
   ],
   "source": [
    "performance_grouped_by_ID_df['ID'].nunique()\n"
   ]
  },
  {
   "cell_type": "code",
   "execution_count": 51,
   "metadata": {},
   "outputs": [],
   "source": [
    "performance_grouped_by_ID_df.to_csv(\"Clean_data/Clean_Performance.csv\", index=False)"
   ]
  },
  {
   "cell_type": "markdown",
   "metadata": {},
   "source": [
    "# Testing some stuff"
   ]
  },
  {
   "cell_type": "code",
   "execution_count": 101,
   "metadata": {},
   "outputs": [
    {
     "data": {
      "text/plain": [
       "1 x 1        672\n",
       "300 x 250      6\n",
       "100 x 100      1\n",
       "Name: Placement Pixel Size, dtype: int64"
      ]
     },
     "execution_count": 101,
     "metadata": {},
     "output_type": "execute_result"
    }
   ],
   "source": [
    "#check that all 1x1 have clicks>0 and Impressions=0\n",
    "cond2=performance_grouped_by_ID_df['Impressions']==0\n",
    "\n",
    "performance_grouped_by_ID_df.loc[cond2,'Placement Pixel Size'].value_counts()"
   ]
  },
  {
   "cell_type": "code",
   "execution_count": 102,
   "metadata": {},
   "outputs": [
    {
     "data": {
      "text/plain": [
       "(array([  66840,  282879, 1042154, 1714568, 1714618, 1783296, 1847346,\n",
       "        1952710, 2113974, 2218151, 2895509, 3872190, 5008136, 5013473,\n",
       "        5049482, 5068240, 5075820, 5117597, 5153539, 5171484, 5309141,\n",
       "        5365899, 5401903, 5450634, 5484629, 5517196, 5538527, 5544114,\n",
       "        5544899, 5556879, 5583336, 5633927, 5641833, 5648148, 5661732,\n",
       "        5730202, 5761245, 5807061, 5839780, 5855661, 6030806, 6334703,\n",
       "        6348446, 6380374, 6390968, 6446692, 6459330, 6599921]),)"
      ]
     },
     "execution_count": 102,
     "metadata": {},
     "output_type": "execute_result"
    }
   ],
   "source": [
    "np.where(uwe_performance_df_raw['Clicks']<0)"
   ]
  },
  {
   "cell_type": "code",
   "execution_count": 103,
   "metadata": {},
   "outputs": [
    {
     "data": {
      "text/plain": [
       "Date                                                                2018-01-09\n",
       "Advertiser ID                                                          4476036\n",
       "Advertiser                             University of the West of England (UWE)\n",
       "Campaign ID                                                            9997161\n",
       "Campaign                                                        Natural Search\n",
       "Site ID (DCM)                                                          2597711\n",
       "Site (DCM)                                     Natural Search : Google : 18208\n",
       "Creative ID                                                          (not set)\n",
       "Creative                                                             (not set)\n",
       "Creative Type                                                        (not set)\n",
       "Placement Pixel Size                                                     1 x 1\n",
       "Platform Type                                                          Desktop\n",
       "City                                                                    Bourne\n",
       "Country                                                         United Kingdom\n",
       "Impressions                                                                  0\n",
       "Clicks                                                                      -1\n",
       "Click Rate                                                                   0\n",
       "Active View: Viewable Impressions                                            0\n",
       "Active View: Measurable Impressions                                          0\n",
       "Active View: Eligible Impressions                                            0\n",
       "Name: 66840, dtype: object"
      ]
     },
     "execution_count": 103,
     "metadata": {},
     "output_type": "execute_result"
    }
   ],
   "source": [
    "uwe_performance_df_raw.iloc[66840]"
   ]
  },
  {
   "cell_type": "code",
   "execution_count": null,
   "metadata": {},
   "outputs": [],
   "source": []
  },
  {
   "cell_type": "code",
   "execution_count": 104,
   "metadata": {},
   "outputs": [
    {
     "data": {
      "text/plain": [
       "48"
      ]
     },
     "execution_count": 104,
     "metadata": {},
     "output_type": "execute_result"
    }
   ],
   "source": [
    "(uwe_performance_df_raw['Clicks']<0).sum()"
   ]
  },
  {
   "cell_type": "code",
   "execution_count": 105,
   "metadata": {},
   "outputs": [
    {
     "data": {
      "text/plain": [
       "35"
      ]
     },
     "execution_count": 105,
     "metadata": {},
     "output_type": "execute_result"
    }
   ],
   "source": [
    "(tees_performance_df_raw['Clicks']<0).sum()"
   ]
  },
  {
   "cell_type": "code",
   "execution_count": 106,
   "metadata": {},
   "outputs": [
    {
     "data": {
      "text/plain": [
       "0"
      ]
     },
     "execution_count": 106,
     "metadata": {},
     "output_type": "execute_result"
    }
   ],
   "source": [
    "(uwe_performance_df_raw['Impressions']<0).sum()"
   ]
  },
  {
   "cell_type": "code",
   "execution_count": 107,
   "metadata": {},
   "outputs": [
    {
     "data": {
      "text/plain": [
       "2"
      ]
     },
     "execution_count": 107,
     "metadata": {},
     "output_type": "execute_result"
    }
   ],
   "source": [
    "(tees_performance_df_raw['Impressions']<0).sum()"
   ]
  },
  {
   "cell_type": "code",
   "execution_count": 108,
   "metadata": {},
   "outputs": [
    {
     "data": {
      "text/plain": [
       "0"
      ]
     },
     "execution_count": 108,
     "metadata": {},
     "output_type": "execute_result"
    }
   ],
   "source": [
    "(uwe_performance_df_raw['Active View: Eligible Impressions']<0).sum()"
   ]
  },
  {
   "cell_type": "code",
   "execution_count": 109,
   "metadata": {},
   "outputs": [
    {
     "data": {
      "text/plain": [
       "0"
      ]
     },
     "execution_count": 109,
     "metadata": {},
     "output_type": "execute_result"
    }
   ],
   "source": [
    "(tees_performance_df_raw['Active View: Eligible Impressions']<0).sum()"
   ]
  },
  {
   "cell_type": "code",
   "execution_count": 110,
   "metadata": {},
   "outputs": [
    {
     "data": {
      "text/plain": [
       "110"
      ]
     },
     "execution_count": 110,
     "metadata": {},
     "output_type": "execute_result"
    }
   ],
   "source": [
    "(uwe_performance_df_raw['Active View: Measurable Impressions']<0).sum()"
   ]
  },
  {
   "cell_type": "code",
   "execution_count": 111,
   "metadata": {},
   "outputs": [
    {
     "data": {
      "text/plain": [
       "504"
      ]
     },
     "execution_count": 111,
     "metadata": {},
     "output_type": "execute_result"
    }
   ],
   "source": [
    "(tees_performance_df_raw['Active View: Measurable Impressions']<0).sum()"
   ]
  },
  {
   "cell_type": "code",
   "execution_count": 112,
   "metadata": {},
   "outputs": [
    {
     "data": {
      "text/plain": [
       "0"
      ]
     },
     "execution_count": 112,
     "metadata": {},
     "output_type": "execute_result"
    }
   ],
   "source": [
    "(uwe_performance_df_raw['Active View: Viewable Impressions']<0).sum()"
   ]
  },
  {
   "cell_type": "code",
   "execution_count": 113,
   "metadata": {},
   "outputs": [
    {
     "data": {
      "text/plain": [
       "0"
      ]
     },
     "execution_count": 113,
     "metadata": {},
     "output_type": "execute_result"
    }
   ],
   "source": [
    "(tees_performance_df_raw['Active View: Viewable Impressions']<0).sum()"
   ]
  },
  {
   "cell_type": "code",
   "execution_count": 114,
   "metadata": {},
   "outputs": [
    {
     "name": "stdout",
     "output_type": "stream",
     "text": [
      "0.09547366847961453\n",
      "[0.]\n",
      "[   1    2    4 ... 1228 1303 1347]\n",
      "[0]\n"
     ]
    }
   ],
   "source": [
    "cond1=uwe_performance_df_raw['Clicks']>0\n",
    "cond2=uwe_performance_df_raw['Impressions']==0\n",
    "\n",
    "print(len(uwe_performance_df_raw[cond1 & cond2])/(len(uwe_performance_df_raw)))\n",
    "\n",
    "print(uwe_performance_df_raw[cond1 & cond2]['Click Rate'].unique())\n",
    "print(uwe_performance_df_raw[cond1 & cond2]['Clicks'].unique())\n",
    "print(uwe_performance_df_raw[cond1 & cond2]['Active View: Measurable Impressions'].unique())"
   ]
  },
  {
   "cell_type": "code",
   "execution_count": 115,
   "metadata": {},
   "outputs": [
    {
     "name": "stdout",
     "output_type": "stream",
     "text": [
      "0.012217762213305373\n",
      "[0.]\n",
      "[   1    2   10   21   38    4   11   12   26    3   14    5    7    6\n",
      "   89    9    8  234   23   15   17   20   25   19   87   46   24   27\n",
      "   13   91  200   16   58   30   55   22  119  206   35  107  222   48\n",
      "   78  258   18   37   53   29   64  219   32  109  205   28  103  201\n",
      "   47   60  230   90  214   59  224   41   56   50   70   44   36   57\n",
      "   43   66   39   74   63   40   68   52   33   51   31   54   62   73\n",
      "   82   65   61   72   67   81   45  101   42  110   69   34   71   84\n",
      "   75   80   49   96   83   92   86   85   99  112   95   77  111  123\n",
      "  120  126   88  132  122  108  115  117   79  106  125  124   98  118\n",
      "  140  133  137   97  114  145  152  134   94  104  100  127   93   76\n",
      "  102  116 1151 1003  151  142  135  189  263  524 3775  426  130  296\n",
      "  326  196 4800  121 1016  934  180  141  139  143  191  269  559  138\n",
      " 3933  352  329  324  184 4964  295  241  424  438 1061  938  176  154\n",
      "  144  274  604 4308  312  313  321  197 4960  681  627 1131 1228  129\n",
      " 1046  920  218  179  175  161  249  185  344  682  174 4896  365  136\n",
      "  404 6234  148  608  624 1263 1459  962  786  215  213  159  153  243\n",
      "  346  652  169  378  131  431  396  158  265 6308  195  492  497 1239\n",
      " 1470  530  463 1615 1928  589  565 1747 2084  595 1676 1710  655  539\n",
      " 1617 1740  628  572 1898 1921  280  285  767  916  290  728  756  314\n",
      "  305  936 1085  268 1010 1065  259  211  803  928  209  792  884  301\n",
      "  256 1001 1117  311  282 1037 1310  287  308  874  985  347  892  908\n",
      "  162  310  257  813  273  800  262  223  821  919  244 1011 1104  160\n",
      "  113  146  208  190  277  188  105  199  166  181  170  171  216  157\n",
      "  149  128  147  186  163  150  187  202  236  182]\n",
      "[0]\n"
     ]
    }
   ],
   "source": [
    "cond1=tees_performance_df_raw['Clicks']>0\n",
    "cond2=tees_performance_df_raw['Impressions']==0\n",
    "\n",
    "print(len(tees_performance_df_raw[cond1 & cond2])/(len(tees_performance_df_raw)))\n",
    "\n",
    "print(tees_performance_df_raw[cond1 & cond2]['Click Rate'].unique())\n",
    "print(tees_performance_df_raw[cond1 & cond2]['Clicks'].unique())\n",
    "print(tees_performance_df_raw[cond1 & cond2]['Active View: Eligible Impressions'].unique())"
   ]
  },
  {
   "cell_type": "code",
   "execution_count": 116,
   "metadata": {},
   "outputs": [
    {
     "data": {
      "text/plain": [
       "array(['(not set)'], dtype=object)"
      ]
     },
     "execution_count": 116,
     "metadata": {},
     "output_type": "execute_result"
    }
   ],
   "source": [
    "uwe_performance_df_raw[uwe_performance_df_raw['Creative']=='(not set)']['Creative Type'].unique()"
   ]
  },
  {
   "cell_type": "code",
   "execution_count": 117,
   "metadata": {},
   "outputs": [
    {
     "data": {
      "text/plain": [
       "7908"
      ]
     },
     "execution_count": 117,
     "metadata": {},
     "output_type": "execute_result"
    }
   ],
   "source": [
    "performance_grouped_by_ID_df['ID'].nunique()"
   ]
  },
  {
   "cell_type": "code",
   "execution_count": null,
   "metadata": {},
   "outputs": [],
   "source": []
  },
  {
   "cell_type": "code",
   "execution_count": null,
   "metadata": {},
   "outputs": [],
   "source": []
  }
 ],
 "metadata": {
  "kernelspec": {
   "display_name": "Python 3",
   "language": "python",
   "name": "python3"
  },
  "language_info": {
   "codemirror_mode": {
    "name": "ipython",
    "version": 3
   },
   "file_extension": ".py",
   "mimetype": "text/x-python",
   "name": "python",
   "nbconvert_exporter": "python",
   "pygments_lexer": "ipython3",
   "version": "3.7.3"
  }
 },
 "nbformat": 4,
 "nbformat_minor": 2
}
